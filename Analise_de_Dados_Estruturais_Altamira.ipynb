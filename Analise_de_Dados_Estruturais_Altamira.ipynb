{
  "nbformat": 4,
  "nbformat_minor": 0,
  "metadata": {
    "colab": {
      "name": "Dados Estruturais - Altamira.ipynb",
      "provenance": [],
      "collapsed_sections": [
        "iJxeqRjdroqj",
        "sLPg7h7fr9nM",
        "fSEBgRKJsHi-",
        "HDify1PsqW_d",
        "9Gf7zrRut1lR",
        "5VRoslhTSZXk",
        "_a8bBkhOcYKb",
        "BB84dLuvWHo2",
        "68Rm5khuti-V",
        "QEWCQD7KvBZ4",
        "i0xPN9Y4IhYq",
        "TzgZKCLihtu7",
        "j1mI-CGVhwLY",
        "jwmKeQrdxfkT",
        "LMozGE7IxiiT",
        "im6Z_b9jtogS",
        "vRYf4eirxl_C",
        "4nncKwSsxoKD",
        "aSbg5-K5dCTg",
        "qkpGJl0PrXwe",
        "rgmTzuTfdRcQ",
        "fcReb9ZKXW6U",
        "2CrGkufEKV5j",
        "uhAMBfQJAUnW",
        "I1lgxwPMBxyH",
        "CpxHu4lWX43p",
        "DlHcSA-OYBbc",
        "ctNH_Xeue3jM",
        "j42RlxS5cbOp",
        "0SMv8yy7deGJ",
        "ov2Nk_ZQbs9S",
        "hHbJcuRggJpk"
      ],
      "toc_visible": true
    },
    "kernelspec": {
      "name": "python3",
      "display_name": "Python 3"
    }
  },
  "cells": [
    {
      "cell_type": "markdown",
      "metadata": {
        "id": "OZGKjWiiX27q"
      },
      "source": [
        "# Análise de Dados Estruturais na Região de Altamira, MG"
      ]
    },
    {
      "cell_type": "markdown",
      "metadata": {
        "id": "QLPuARoseYRQ"
      },
      "source": [
        "## Importação de Bibliotecas e do Dataset"
      ]
    },
    {
      "cell_type": "code",
      "metadata": {
        "id": "VZIKivx3XkJT"
      },
      "source": [
        "# Importação de bibliotecas:\n",
        "import pandas as pd\n",
        "import matplotlib.pyplot as plt\n",
        "import numpy as np\n",
        "import seaborn as sns\n",
        "from scipy import stats"
      ],
      "execution_count": 33,
      "outputs": []
    },
    {
      "cell_type": "code",
      "metadata": {
        "id": "Z8IpclR4X7Hr"
      },
      "source": [
        "# Importação do dataset:\n",
        "path = \"/content/drive/My Drive/Colab Notebooks/Datasets/dados_estruturais_altamira.csv\"\n",
        "dataframe = pd.read_csv(path)"
      ],
      "execution_count": 34,
      "outputs": []
    },
    {
      "cell_type": "code",
      "metadata": {
        "id": "95uAsaasYa8-",
        "outputId": "dac566b9-63e3-49b1-9360-b7e82d2fcae5",
        "colab": {
          "base_uri": "https://localhost:8080/",
          "height": 204
        }
      },
      "source": [
        "# Visualização do dataframe:\n",
        "dataframe.head()"
      ],
      "execution_count": 35,
      "outputs": [
        {
          "output_type": "execute_result",
          "data": {
            "text/html": [
              "<div>\n",
              "<style scoped>\n",
              "    .dataframe tbody tr th:only-of-type {\n",
              "        vertical-align: middle;\n",
              "    }\n",
              "\n",
              "    .dataframe tbody tr th {\n",
              "        vertical-align: top;\n",
              "    }\n",
              "\n",
              "    .dataframe thead th {\n",
              "        text-align: right;\n",
              "    }\n",
              "</style>\n",
              "<table border=\"1\" class=\"dataframe\">\n",
              "  <thead>\n",
              "    <tr style=\"text-align: right;\">\n",
              "      <th></th>\n",
              "      <th>PONTO</th>\n",
              "      <th>X</th>\n",
              "      <th>Y</th>\n",
              "      <th>COTA</th>\n",
              "      <th>UNID</th>\n",
              "      <th>LITO</th>\n",
              "      <th>TIPO</th>\n",
              "      <th>DIP_DIR</th>\n",
              "      <th>DIP</th>\n",
              "      <th>GRUPO</th>\n",
              "    </tr>\n",
              "  </thead>\n",
              "  <tbody>\n",
              "    <tr>\n",
              "      <th>0</th>\n",
              "      <td>1</td>\n",
              "      <td>650608.0</td>\n",
              "      <td>7835818.0</td>\n",
              "      <td>1143.0</td>\n",
              "      <td>ESP</td>\n",
              "      <td>QUARTZITO</td>\n",
              "      <td>SN</td>\n",
              "      <td>60.0</td>\n",
              "      <td>50.0</td>\n",
              "      <td>1</td>\n",
              "    </tr>\n",
              "    <tr>\n",
              "      <th>1</th>\n",
              "      <td>1</td>\n",
              "      <td>650608.0</td>\n",
              "      <td>7835818.0</td>\n",
              "      <td>1143.0</td>\n",
              "      <td>ESP</td>\n",
              "      <td>QUARTZITO</td>\n",
              "      <td>SN</td>\n",
              "      <td>85.0</td>\n",
              "      <td>75.0</td>\n",
              "      <td>1</td>\n",
              "    </tr>\n",
              "    <tr>\n",
              "      <th>2</th>\n",
              "      <td>1</td>\n",
              "      <td>650608.0</td>\n",
              "      <td>7835818.0</td>\n",
              "      <td>1143.0</td>\n",
              "      <td>ESP</td>\n",
              "      <td>QUARTZITO</td>\n",
              "      <td>SN</td>\n",
              "      <td>85.0</td>\n",
              "      <td>78.0</td>\n",
              "      <td>1</td>\n",
              "    </tr>\n",
              "    <tr>\n",
              "      <th>3</th>\n",
              "      <td>2</td>\n",
              "      <td>NaN</td>\n",
              "      <td>NaN</td>\n",
              "      <td>NaN</td>\n",
              "      <td>ESP</td>\n",
              "      <td>QUARTZITO</td>\n",
              "      <td>SN</td>\n",
              "      <td>73.0</td>\n",
              "      <td>50.0</td>\n",
              "      <td>1</td>\n",
              "    </tr>\n",
              "    <tr>\n",
              "      <th>4</th>\n",
              "      <td>2</td>\n",
              "      <td>NaN</td>\n",
              "      <td>NaN</td>\n",
              "      <td>NaN</td>\n",
              "      <td>ESP</td>\n",
              "      <td>QUARTZITO</td>\n",
              "      <td>SN</td>\n",
              "      <td>72.0</td>\n",
              "      <td>35.0</td>\n",
              "      <td>1</td>\n",
              "    </tr>\n",
              "  </tbody>\n",
              "</table>\n",
              "</div>"
            ],
            "text/plain": [
              "   PONTO         X          Y    COTA  ... TIPO DIP_DIR   DIP  GRUPO\n",
              "0      1  650608.0  7835818.0  1143.0  ...   SN    60.0  50.0      1\n",
              "1      1  650608.0  7835818.0  1143.0  ...   SN    85.0  75.0      1\n",
              "2      1  650608.0  7835818.0  1143.0  ...   SN    85.0  78.0      1\n",
              "3      2       NaN        NaN     NaN  ...   SN    73.0  50.0      1\n",
              "4      2       NaN        NaN     NaN  ...   SN    72.0  35.0      1\n",
              "\n",
              "[5 rows x 10 columns]"
            ]
          },
          "metadata": {
            "tags": []
          },
          "execution_count": 35
        }
      ]
    },
    {
      "cell_type": "code",
      "metadata": {
        "id": "EEum2ccGf-8J"
      },
      "source": [
        "# Criação de cópia do dataset:\n",
        "df = dataframe.copy()"
      ],
      "execution_count": 36,
      "outputs": []
    },
    {
      "cell_type": "markdown",
      "metadata": {
        "id": "rU7olhGcawMQ"
      },
      "source": [
        "## Atributos do Dataset\n",
        "\n",
        "Este dataset consiste em um compilado de dados estruturais coletados em campo por alunos da disciplina de Geologia de Campo, ofertada pelo IGC-UFMG. Seus atributos são:\n",
        "\n",
        "- **PONTO** --> identificador numérico do ponto visitado\n",
        "\n",
        "- **X** --> coordenada X em UTM\n",
        "\n",
        "- **Y** --> coordenada Y em UTM\n",
        "\n",
        "- **COTA** --> altitude em metros\n",
        "\n",
        "- **UNID** --> unidade litoestratigráfica\n",
        "  - *ESP* : Sg. Espinhaço\n",
        "  - *CBH* : Cx. Belo Horizonte\n",
        "\n",
        "- **LITO** --> rocha presente no ponto\n",
        "\n",
        "- **TIPO** --> tipo de estrutura presente no ponto\n",
        "  - *SN* : Foliação\n",
        "  - *SN_1* : Foliação Sn+1\n",
        "  - *S0* : Acamamento\n",
        "  - *LN* : Lineação\n",
        "  - *F* : Fratura\n",
        "  - *E* : Eixo\n",
        "  - *V* : Veio\n",
        "\n",
        "- **DIP_DIR** --> sentido de mergulho/caimento da estrutura\n",
        "\n",
        "- **DIP** --> ângulo de mergulho/plunge da estrutura\n",
        "\n",
        "- **GRUPO** --> número do relatório de onde as medidas foram extraídas (1 a 7)"
      ]
    },
    {
      "cell_type": "markdown",
      "metadata": {
        "id": "qlbVhPnPefOv"
      },
      "source": [
        "## Limpeza e Manipulação de Dataset\n",
        "\n",
        "- Informações Gerais\n",
        "- Valores Faltantes\n",
        "- Contagem de Valores Únicos\n",
        "- Exclusão de Valores Irrelevantes"
      ]
    },
    {
      "cell_type": "markdown",
      "metadata": {
        "id": "oAZfYLZ0Zani"
      },
      "source": [
        "### Informações Gerais do Dataset"
      ]
    },
    {
      "cell_type": "code",
      "metadata": {
        "id": "oau411wgfCbN",
        "outputId": "77b02710-c6cd-49c0-928f-916d9c15c18c",
        "colab": {
          "base_uri": "https://localhost:8080/",
          "height": 306
        }
      },
      "source": [
        "# Informações gerais sobre o dataset:\n",
        "df.info()"
      ],
      "execution_count": 37,
      "outputs": [
        {
          "output_type": "stream",
          "text": [
            "<class 'pandas.core.frame.DataFrame'>\n",
            "RangeIndex: 716 entries, 0 to 715\n",
            "Data columns (total 10 columns):\n",
            " #   Column   Non-Null Count  Dtype  \n",
            "---  ------   --------------  -----  \n",
            " 0   PONTO    716 non-null    int64  \n",
            " 1   X        712 non-null    float64\n",
            " 2   Y        712 non-null    float64\n",
            " 3   COTA     654 non-null    float64\n",
            " 4   UNID     625 non-null    object \n",
            " 5   LITO     716 non-null    object \n",
            " 6   TIPO     701 non-null    object \n",
            " 7   DIP_DIR  701 non-null    float64\n",
            " 8   DIP      699 non-null    float64\n",
            " 9   GRUPO    716 non-null    int64  \n",
            "dtypes: float64(5), int64(2), object(3)\n",
            "memory usage: 56.1+ KB\n"
          ],
          "name": "stdout"
        }
      ]
    },
    {
      "cell_type": "markdown",
      "metadata": {
        "id": "tDY7IoyBrW6C"
      },
      "source": [
        "### Valores Faltantes"
      ]
    },
    {
      "cell_type": "code",
      "metadata": {
        "id": "FLpdCDXrbW1T",
        "outputId": "95bf7a65-a02f-4369-c71d-e79ba7038862",
        "colab": {
          "base_uri": "https://localhost:8080/",
          "height": 204
        }
      },
      "source": [
        "# Número de valores faltantes por atributo:\n",
        "df.isnull().sum()"
      ],
      "execution_count": 38,
      "outputs": [
        {
          "output_type": "execute_result",
          "data": {
            "text/plain": [
              "PONTO       0\n",
              "X           4\n",
              "Y           4\n",
              "COTA       62\n",
              "UNID       91\n",
              "LITO        0\n",
              "TIPO       15\n",
              "DIP_DIR    15\n",
              "DIP        17\n",
              "GRUPO       0\n",
              "dtype: int64"
            ]
          },
          "metadata": {
            "tags": []
          },
          "execution_count": 38
        }
      ]
    },
    {
      "cell_type": "markdown",
      "metadata": {
        "id": "6_N7zowOrcb-"
      },
      "source": [
        "### Contagem de Valores Únicos"
      ]
    },
    {
      "cell_type": "code",
      "metadata": {
        "id": "iCmwBhwqhAB9",
        "outputId": "fd88fc16-6536-4375-a92b-ec5108f4d4ed",
        "colab": {
          "base_uri": "https://localhost:8080/",
          "height": 204
        }
      },
      "source": [
        "# Contagem de valores de LITO:\n",
        "df.LITO.value_counts()"
      ],
      "execution_count": 39,
      "outputs": [
        {
          "output_type": "execute_result",
          "data": {
            "text/plain": [
              "QUARTZITO                467\n",
              "XISTO                     89\n",
              "GNAISSE                   64\n",
              "GRANITO                   30\n",
              "CONGLOMERADO              28\n",
              "FILITO                    25\n",
              "QUARTZITO_EMBASAMENTO      5\n",
              "FILITO_QUARTZITO           4\n",
              "MAFICA                     3\n",
              "V_QUARTZO                  1\n",
              "Name: LITO, dtype: int64"
            ]
          },
          "metadata": {
            "tags": []
          },
          "execution_count": 39
        }
      ]
    },
    {
      "cell_type": "code",
      "metadata": {
        "id": "zWz0rabHqgRZ",
        "outputId": "8eb99f32-d4c2-4c94-979e-f0b063ae8935",
        "colab": {
          "base_uri": "https://localhost:8080/",
          "height": 153
        }
      },
      "source": [
        "# Contagem de valores de TIPO:\n",
        "df.TIPO.value_counts()"
      ],
      "execution_count": 40,
      "outputs": [
        {
          "output_type": "execute_result",
          "data": {
            "text/plain": [
              "SN      378\n",
              "S0      199\n",
              "F        64\n",
              "E        27\n",
              "LN       25\n",
              "V         7\n",
              "SN_1      1\n",
              "Name: TIPO, dtype: int64"
            ]
          },
          "metadata": {
            "tags": []
          },
          "execution_count": 40
        }
      ]
    },
    {
      "cell_type": "markdown",
      "metadata": {
        "id": "iJxeqRjdroqj"
      },
      "source": [
        "### Exclusão de Valores Irrelevantes"
      ]
    },
    {
      "cell_type": "markdown",
      "metadata": {
        "id": "sLPg7h7fr9nM"
      },
      "source": [
        "#### Atributo DIP_DIR\n",
        "\n",
        "- Exclusão de valores com DIP_DIR faltante\n",
        "\n",
        "- Como a análise é focada essencialmente em dados estruturais, instâncias que apresentam dados estruturais faltantes podem ser descartadas"
      ]
    },
    {
      "cell_type": "code",
      "metadata": {
        "id": "y6QE4ya7hMMc",
        "outputId": "0eea31b6-e6af-4b6d-ec81-eb84c4bc5de7",
        "colab": {
          "base_uri": "https://localhost:8080/",
          "height": 514
        }
      },
      "source": [
        "# Identificando valores faltantes de DIP_DIR:\n",
        "df.query(\"DIP_DIR == 'NaN'\")"
      ],
      "execution_count": 41,
      "outputs": [
        {
          "output_type": "execute_result",
          "data": {
            "text/html": [
              "<div>\n",
              "<style scoped>\n",
              "    .dataframe tbody tr th:only-of-type {\n",
              "        vertical-align: middle;\n",
              "    }\n",
              "\n",
              "    .dataframe tbody tr th {\n",
              "        vertical-align: top;\n",
              "    }\n",
              "\n",
              "    .dataframe thead th {\n",
              "        text-align: right;\n",
              "    }\n",
              "</style>\n",
              "<table border=\"1\" class=\"dataframe\">\n",
              "  <thead>\n",
              "    <tr style=\"text-align: right;\">\n",
              "      <th></th>\n",
              "      <th>PONTO</th>\n",
              "      <th>X</th>\n",
              "      <th>Y</th>\n",
              "      <th>COTA</th>\n",
              "      <th>UNID</th>\n",
              "      <th>LITO</th>\n",
              "      <th>TIPO</th>\n",
              "      <th>DIP_DIR</th>\n",
              "      <th>DIP</th>\n",
              "      <th>GRUPO</th>\n",
              "    </tr>\n",
              "  </thead>\n",
              "  <tbody>\n",
              "    <tr>\n",
              "      <th>8</th>\n",
              "      <td>4</td>\n",
              "      <td>650449.0</td>\n",
              "      <td>7835993.0</td>\n",
              "      <td>1251.0</td>\n",
              "      <td>ESP</td>\n",
              "      <td>QUARTZITO</td>\n",
              "      <td>NaN</td>\n",
              "      <td>NaN</td>\n",
              "      <td>NaN</td>\n",
              "      <td>1</td>\n",
              "    </tr>\n",
              "    <tr>\n",
              "      <th>9</th>\n",
              "      <td>5</td>\n",
              "      <td>650449.0</td>\n",
              "      <td>7836175.0</td>\n",
              "      <td>1274.0</td>\n",
              "      <td>ESP</td>\n",
              "      <td>QUARTZITO</td>\n",
              "      <td>NaN</td>\n",
              "      <td>NaN</td>\n",
              "      <td>NaN</td>\n",
              "      <td>1</td>\n",
              "    </tr>\n",
              "    <tr>\n",
              "      <th>10</th>\n",
              "      <td>6</td>\n",
              "      <td>650200.0</td>\n",
              "      <td>7836343.0</td>\n",
              "      <td>1269.0</td>\n",
              "      <td>ESP</td>\n",
              "      <td>QUARTZITO</td>\n",
              "      <td>NaN</td>\n",
              "      <td>NaN</td>\n",
              "      <td>NaN</td>\n",
              "      <td>1</td>\n",
              "    </tr>\n",
              "    <tr>\n",
              "      <th>20</th>\n",
              "      <td>11</td>\n",
              "      <td>652000.0</td>\n",
              "      <td>7833212.0</td>\n",
              "      <td>1101.0</td>\n",
              "      <td>ESP</td>\n",
              "      <td>V_QUARTZO</td>\n",
              "      <td>NaN</td>\n",
              "      <td>NaN</td>\n",
              "      <td>NaN</td>\n",
              "      <td>1</td>\n",
              "    </tr>\n",
              "    <tr>\n",
              "      <th>70</th>\n",
              "      <td>20</td>\n",
              "      <td>652689.0</td>\n",
              "      <td>7836420.0</td>\n",
              "      <td>1234.0</td>\n",
              "      <td>ESP</td>\n",
              "      <td>QUARTZITO</td>\n",
              "      <td>NaN</td>\n",
              "      <td>NaN</td>\n",
              "      <td>NaN</td>\n",
              "      <td>1</td>\n",
              "    </tr>\n",
              "    <tr>\n",
              "      <th>73</th>\n",
              "      <td>22</td>\n",
              "      <td>650054.0</td>\n",
              "      <td>7834640.0</td>\n",
              "      <td>989.0</td>\n",
              "      <td>ESP</td>\n",
              "      <td>QUARTZITO</td>\n",
              "      <td>NaN</td>\n",
              "      <td>NaN</td>\n",
              "      <td>NaN</td>\n",
              "      <td>1</td>\n",
              "    </tr>\n",
              "    <tr>\n",
              "      <th>74</th>\n",
              "      <td>23</td>\n",
              "      <td>649468.0</td>\n",
              "      <td>7834632.0</td>\n",
              "      <td>1067.0</td>\n",
              "      <td>ESP</td>\n",
              "      <td>QUARTZITO</td>\n",
              "      <td>NaN</td>\n",
              "      <td>NaN</td>\n",
              "      <td>NaN</td>\n",
              "      <td>1</td>\n",
              "    </tr>\n",
              "    <tr>\n",
              "      <th>75</th>\n",
              "      <td>24</td>\n",
              "      <td>648930.0</td>\n",
              "      <td>7835991.0</td>\n",
              "      <td>1075.0</td>\n",
              "      <td>CBH</td>\n",
              "      <td>GNAISSE</td>\n",
              "      <td>NaN</td>\n",
              "      <td>NaN</td>\n",
              "      <td>NaN</td>\n",
              "      <td>1</td>\n",
              "    </tr>\n",
              "    <tr>\n",
              "      <th>76</th>\n",
              "      <td>25</td>\n",
              "      <td>648826.0</td>\n",
              "      <td>7836011.0</td>\n",
              "      <td>1096.0</td>\n",
              "      <td>NaN</td>\n",
              "      <td>MAFICA</td>\n",
              "      <td>NaN</td>\n",
              "      <td>NaN</td>\n",
              "      <td>NaN</td>\n",
              "      <td>1</td>\n",
              "    </tr>\n",
              "    <tr>\n",
              "      <th>77</th>\n",
              "      <td>26</td>\n",
              "      <td>648585.0</td>\n",
              "      <td>7836054.0</td>\n",
              "      <td>1161.0</td>\n",
              "      <td>ESP</td>\n",
              "      <td>CONGLOMERADO</td>\n",
              "      <td>NaN</td>\n",
              "      <td>NaN</td>\n",
              "      <td>NaN</td>\n",
              "      <td>1</td>\n",
              "    </tr>\n",
              "    <tr>\n",
              "      <th>89</th>\n",
              "      <td>28</td>\n",
              "      <td>648375.0</td>\n",
              "      <td>7835850.0</td>\n",
              "      <td>1201.0</td>\n",
              "      <td>ESP</td>\n",
              "      <td>CONGLOMERADO</td>\n",
              "      <td>NaN</td>\n",
              "      <td>NaN</td>\n",
              "      <td>NaN</td>\n",
              "      <td>1</td>\n",
              "    </tr>\n",
              "    <tr>\n",
              "      <th>97</th>\n",
              "      <td>31</td>\n",
              "      <td>649873.0</td>\n",
              "      <td>7836186.0</td>\n",
              "      <td>1162.0</td>\n",
              "      <td>ESP</td>\n",
              "      <td>MAFICA</td>\n",
              "      <td>NaN</td>\n",
              "      <td>NaN</td>\n",
              "      <td>NaN</td>\n",
              "      <td>1</td>\n",
              "    </tr>\n",
              "    <tr>\n",
              "      <th>98</th>\n",
              "      <td>32</td>\n",
              "      <td>649320.0</td>\n",
              "      <td>7835841.0</td>\n",
              "      <td>1134.0</td>\n",
              "      <td>NaN</td>\n",
              "      <td>XISTO</td>\n",
              "      <td>NaN</td>\n",
              "      <td>NaN</td>\n",
              "      <td>NaN</td>\n",
              "      <td>1</td>\n",
              "    </tr>\n",
              "    <tr>\n",
              "      <th>102</th>\n",
              "      <td>34</td>\n",
              "      <td>647643.0</td>\n",
              "      <td>7834305.0</td>\n",
              "      <td>1147.0</td>\n",
              "      <td>ESP</td>\n",
              "      <td>QUARTZITO</td>\n",
              "      <td>NaN</td>\n",
              "      <td>NaN</td>\n",
              "      <td>NaN</td>\n",
              "      <td>1</td>\n",
              "    </tr>\n",
              "    <tr>\n",
              "      <th>117</th>\n",
              "      <td>38</td>\n",
              "      <td>650001.0</td>\n",
              "      <td>7834288.0</td>\n",
              "      <td>1039.0</td>\n",
              "      <td>NaN</td>\n",
              "      <td>MAFICA</td>\n",
              "      <td>NaN</td>\n",
              "      <td>NaN</td>\n",
              "      <td>NaN</td>\n",
              "      <td>1</td>\n",
              "    </tr>\n",
              "  </tbody>\n",
              "</table>\n",
              "</div>"
            ],
            "text/plain": [
              "     PONTO         X          Y    COTA  ... TIPO DIP_DIR DIP  GRUPO\n",
              "8        4  650449.0  7835993.0  1251.0  ...  NaN     NaN NaN      1\n",
              "9        5  650449.0  7836175.0  1274.0  ...  NaN     NaN NaN      1\n",
              "10       6  650200.0  7836343.0  1269.0  ...  NaN     NaN NaN      1\n",
              "20      11  652000.0  7833212.0  1101.0  ...  NaN     NaN NaN      1\n",
              "70      20  652689.0  7836420.0  1234.0  ...  NaN     NaN NaN      1\n",
              "73      22  650054.0  7834640.0   989.0  ...  NaN     NaN NaN      1\n",
              "74      23  649468.0  7834632.0  1067.0  ...  NaN     NaN NaN      1\n",
              "75      24  648930.0  7835991.0  1075.0  ...  NaN     NaN NaN      1\n",
              "76      25  648826.0  7836011.0  1096.0  ...  NaN     NaN NaN      1\n",
              "77      26  648585.0  7836054.0  1161.0  ...  NaN     NaN NaN      1\n",
              "89      28  648375.0  7835850.0  1201.0  ...  NaN     NaN NaN      1\n",
              "97      31  649873.0  7836186.0  1162.0  ...  NaN     NaN NaN      1\n",
              "98      32  649320.0  7835841.0  1134.0  ...  NaN     NaN NaN      1\n",
              "102     34  647643.0  7834305.0  1147.0  ...  NaN     NaN NaN      1\n",
              "117     38  650001.0  7834288.0  1039.0  ...  NaN     NaN NaN      1\n",
              "\n",
              "[15 rows x 10 columns]"
            ]
          },
          "metadata": {
            "tags": []
          },
          "execution_count": 41
        }
      ]
    },
    {
      "cell_type": "code",
      "metadata": {
        "id": "f4JDr5YGjAqz"
      },
      "source": [
        "# Índices dos valores faltantes de DIP_DIR:\n",
        "MV_dip_dir = list(df.query(\"DIP_DIR == 'NaN'\").index)"
      ],
      "execution_count": 42,
      "outputs": []
    },
    {
      "cell_type": "code",
      "metadata": {
        "id": "L93v0md1jZuF",
        "outputId": "e84b98e5-a944-4240-cd37-9a2c64e03cb9",
        "colab": {
          "base_uri": "https://localhost:8080/",
          "height": 34
        }
      },
      "source": [
        "# Excluindo valores faltantes de DIP_DIR:\n",
        "df.drop(labels=MV_dip_dir,axis=0,inplace=True)\n",
        "\n",
        "# Verificando se os valores foram dropados:\n",
        "df.DIP_DIR.isnull().sum()"
      ],
      "execution_count": 43,
      "outputs": [
        {
          "output_type": "execute_result",
          "data": {
            "text/plain": [
              "0"
            ]
          },
          "metadata": {
            "tags": []
          },
          "execution_count": 43
        }
      ]
    },
    {
      "cell_type": "markdown",
      "metadata": {
        "id": "fSEBgRKJsHi-"
      },
      "source": [
        "#### Atributo TIPO\n",
        "\n",
        "- Exclusão de instâncias que apresentam uma ou duas ocorrências apenas de determinado TIPO de estrutura"
      ]
    },
    {
      "cell_type": "code",
      "metadata": {
        "id": "9tN26gA-sN3J",
        "outputId": "dab34b27-6733-4d83-c142-ff92330c981d",
        "colab": {
          "base_uri": "https://localhost:8080/",
          "height": 80
        }
      },
      "source": [
        "# Indentificando valores TIPO = V:\n",
        "df.query(\"TIPO == 'SN_1'\")"
      ],
      "execution_count": 44,
      "outputs": [
        {
          "output_type": "execute_result",
          "data": {
            "text/html": [
              "<div>\n",
              "<style scoped>\n",
              "    .dataframe tbody tr th:only-of-type {\n",
              "        vertical-align: middle;\n",
              "    }\n",
              "\n",
              "    .dataframe tbody tr th {\n",
              "        vertical-align: top;\n",
              "    }\n",
              "\n",
              "    .dataframe thead th {\n",
              "        text-align: right;\n",
              "    }\n",
              "</style>\n",
              "<table border=\"1\" class=\"dataframe\">\n",
              "  <thead>\n",
              "    <tr style=\"text-align: right;\">\n",
              "      <th></th>\n",
              "      <th>PONTO</th>\n",
              "      <th>X</th>\n",
              "      <th>Y</th>\n",
              "      <th>COTA</th>\n",
              "      <th>UNID</th>\n",
              "      <th>LITO</th>\n",
              "      <th>TIPO</th>\n",
              "      <th>DIP_DIR</th>\n",
              "      <th>DIP</th>\n",
              "      <th>GRUPO</th>\n",
              "    </tr>\n",
              "  </thead>\n",
              "  <tbody>\n",
              "    <tr>\n",
              "      <th>39</th>\n",
              "      <td>16</td>\n",
              "      <td>651809.0</td>\n",
              "      <td>7836257.0</td>\n",
              "      <td>983.0</td>\n",
              "      <td>CBH</td>\n",
              "      <td>GNAISSE</td>\n",
              "      <td>SN_1</td>\n",
              "      <td>76.0</td>\n",
              "      <td>55.0</td>\n",
              "      <td>1</td>\n",
              "    </tr>\n",
              "  </tbody>\n",
              "</table>\n",
              "</div>"
            ],
            "text/plain": [
              "    PONTO         X          Y   COTA UNID     LITO  TIPO  DIP_DIR   DIP  GRUPO\n",
              "39     16  651809.0  7836257.0  983.0  CBH  GNAISSE  SN_1     76.0  55.0      1"
            ]
          },
          "metadata": {
            "tags": []
          },
          "execution_count": 44
        }
      ]
    },
    {
      "cell_type": "code",
      "metadata": {
        "id": "NnD3v6E-shag"
      },
      "source": [
        "# Excluindo valores de TIPO = SN_1:\n",
        "df.drop([39],axis=0,inplace=True)"
      ],
      "execution_count": 45,
      "outputs": []
    },
    {
      "cell_type": "markdown",
      "metadata": {
        "id": "tVCwUEt8UCtL"
      },
      "source": [
        "## Criação de Variáveis para Estruturas Planares e Lineares\n",
        "\n",
        "Criação das seguintes variáveis que representam DIPDIR e DIP das estruturas planares e lineares, sendo elas:\n",
        "- **SN** --> Foliação (Geral)\n",
        "- **SN_ESP** --> Foliação (Sg. Espinhaço)\n",
        "- **SN_CBH** --> Foliação (Cx. Belo Horizonte)\n",
        "- **S0** --> Acamamento (presente apenas no Sg. Espinhaço)\n",
        "- **LN** --> Lineação (Geral)\n",
        "- **LN_ESP** --> Lineação (Sg. Espinhaço)\n",
        "- **LN_CBH** --> Lineação (Cx. Belo Horizonte)\n",
        "- **F** --> Fratura\n",
        "- **E** --> Eixo\n",
        "- **V** --> Veio\n",
        "\n"
      ]
    },
    {
      "cell_type": "code",
      "metadata": {
        "id": "eHlnc1K7UCtM"
      },
      "source": [
        "# Atitudes de foliação (geral):\n",
        "SN = df.query(\"TIPO == 'SN'\")[['DIP_DIR','DIP']]"
      ],
      "execution_count": 46,
      "outputs": []
    },
    {
      "cell_type": "code",
      "metadata": {
        "id": "5AJ5WzdcUCtP"
      },
      "source": [
        "# Atitudes de foliação (Sg. Espinhaço):\n",
        "SN_ESP = df.query(\"TIPO == 'SN' & UNID == 'ESP'\")[['DIP_DIR','DIP']]"
      ],
      "execution_count": 47,
      "outputs": []
    },
    {
      "cell_type": "code",
      "metadata": {
        "id": "fcghLtmnUCtS"
      },
      "source": [
        "# Atitudes de foliação (Cx. Belo Horizonte):\n",
        "SN_CBH = df.query(\"TIPO == 'SN' & UNID == 'CBH'\")[['DIP_DIR','DIP']]"
      ],
      "execution_count": 48,
      "outputs": []
    },
    {
      "cell_type": "code",
      "metadata": {
        "id": "AWLwLhr9UCtU"
      },
      "source": [
        "# Atitudes de acamamento (apenas presentes no Sg. Espinhaço):\n",
        "S0 = df.query(\"TIPO == 'S0'\")[['DIP_DIR','DIP']]"
      ],
      "execution_count": 49,
      "outputs": []
    },
    {
      "cell_type": "code",
      "metadata": {
        "id": "KIiBvnf1UCtW"
      },
      "source": [
        "# Atitudes de lineação (geral):\n",
        "LN = df.query(\"TIPO == 'LN'\")[['DIP_DIR','DIP']]"
      ],
      "execution_count": 50,
      "outputs": []
    },
    {
      "cell_type": "code",
      "metadata": {
        "id": "oP_q9UdMUCta"
      },
      "source": [
        "# Atitudes de lineação (Sg. Espinhaço):\n",
        "LN_ESP = df.query(\"TIPO == 'LN' & UNID == 'ESP'\")[['DIP_DIR','DIP']]"
      ],
      "execution_count": 51,
      "outputs": []
    },
    {
      "cell_type": "code",
      "metadata": {
        "id": "zAbXNJhFUCtc"
      },
      "source": [
        "# Atitudes de lineação (Cx. Belo Horizonte):\n",
        "LN_CBH = df.query(\"TIPO == 'LN' & UNID == 'CBH'\")[['DIP_DIR','DIP']]"
      ],
      "execution_count": 52,
      "outputs": []
    },
    {
      "cell_type": "code",
      "metadata": {
        "id": "BO-XSMNYUCtf"
      },
      "source": [
        "# Atitudes de fratura:\n",
        "F = df.query(\"TIPO == 'F'\")[['DIP_DIR','DIP']]"
      ],
      "execution_count": 53,
      "outputs": []
    },
    {
      "cell_type": "code",
      "metadata": {
        "id": "-1-ULlIeUCti"
      },
      "source": [
        "# Atitudes de eixo:\n",
        "E = df.query(\"TIPO == 'E'\")[['DIP_DIR','DIP']]"
      ],
      "execution_count": 54,
      "outputs": []
    },
    {
      "cell_type": "code",
      "metadata": {
        "id": "JOHI0eCzUCtl"
      },
      "source": [
        "# Atitudes de veio:\n",
        "V = df.query(\"TIPO == 'V'\")[['DIP_DIR','DIP']]"
      ],
      "execution_count": 55,
      "outputs": []
    },
    {
      "cell_type": "markdown",
      "metadata": {
        "id": "fg4i_4f4XQRo"
      },
      "source": [
        "## Funções Auxiliares\n",
        "\n",
        "- Criação de funções que auxiliarão a análise dos dados estruturais"
      ]
    },
    {
      "cell_type": "markdown",
      "metadata": {
        "id": "BB84dLuvWHo2"
      },
      "source": [
        "### Função Direção da Camada\n",
        "\n",
        "- Função que transforma DIP_DIR em direção da camada estandardizada em 0° a 179°"
      ]
    },
    {
      "cell_type": "code",
      "metadata": {
        "id": "WN8MPsdpWavW"
      },
      "source": [
        "def direcao (dip_dir):\n",
        "  if 0 <= dip_dir < 90:\n",
        "    return dip_dir + 90\n",
        "  elif 90 <= dip_dir < 180:\n",
        "    return dip_dir - 90\n",
        "  elif 180 <= dip_dir < 270:\n",
        "    return dip_dir - 90\n",
        "  else:\n",
        "    return dip_dir - 270 "
      ],
      "execution_count": 56,
      "outputs": []
    },
    {
      "cell_type": "code",
      "metadata": {
        "id": "HXwGaitzXO2w"
      },
      "source": [
        "# Criação do atributo DIRECAO, que representa a direção dos planos das estruturas:\n",
        "S0['DIRECAO'] = S0['DIP_DIR'].map(direcao)\n",
        "SN_ESP['DIRECAO'] = SN_ESP['DIP_DIR'].map(direcao)\n",
        "SN_CBH['DIRECAO'] = SN_CBH['DIP_DIR'].map(direcao)\n",
        "SN['DIRECAO'] = SN['DIP_DIR'].map(direcao)"
      ],
      "execution_count": 57,
      "outputs": []
    },
    {
      "cell_type": "markdown",
      "metadata": {
        "id": "2CrGkufEKV5j"
      },
      "source": [
        "### Função Padronização de Trend\n",
        "\n",
        "- Função que padroniza o trend de estruturas para valores entre 0° e 179°."
      ]
    },
    {
      "cell_type": "code",
      "metadata": {
        "id": "iir7ck52FKHT"
      },
      "source": [
        "def padronizar (trend):\n",
        "  if trend > 180:\n",
        "    return trend - 180\n",
        "  else:\n",
        "    return trend "
      ],
      "execution_count": 58,
      "outputs": []
    },
    {
      "cell_type": "markdown",
      "metadata": {
        "id": "4k2xgwvKduub"
      },
      "source": [
        "## Medidas Estruturais (Sem Divisão por Domínios)"
      ]
    },
    {
      "cell_type": "markdown",
      "metadata": {
        "id": "68Rm5khuti-V"
      },
      "source": [
        "### Gráficos de Barras\n",
        "\n",
        "- Frequência Absoluta - LITO\n",
        "\n",
        "- Frequência Relativa - LITO\n",
        "\n",
        "- Frequência Absoluta - TIPO"
      ]
    },
    {
      "cell_type": "markdown",
      "metadata": {
        "id": "QEWCQD7KvBZ4"
      },
      "source": [
        "#### Frequência Absoluta de Ocorrência de Litologias"
      ]
    },
    {
      "cell_type": "code",
      "metadata": {
        "id": "lCsK30DGwtTf"
      },
      "source": [
        "temp = list(dataframe.query(\"LITO == 'V_QUARTZO' | LITO == 'FILITO_QUARTZITO' | LITO == 'QUARTZITO_EMBASAMENTO'\").index)\n",
        "df_temp = dataframe.drop(labels=temp,axis=0)"
      ],
      "execution_count": 59,
      "outputs": []
    },
    {
      "cell_type": "code",
      "metadata": {
        "id": "gkSMOA4EXZWE"
      },
      "source": [
        "# Frequência absoluta:\n",
        "freq_abs =  list(df_temp.LITO.value_counts().values)"
      ],
      "execution_count": 60,
      "outputs": []
    },
    {
      "cell_type": "code",
      "metadata": {
        "id": "I0EZXbMGuWSv"
      },
      "source": [
        "# Criação das labels das barras:\n",
        "bar = ['Quartzito','Xisto','Gnaisse','Granito','Conglomerado','Filito','Máfica']"
      ],
      "execution_count": 61,
      "outputs": []
    },
    {
      "cell_type": "code",
      "metadata": {
        "id": "I4pxDIjhubWL",
        "outputId": "6ea39c8d-8010-49bd-8c40-6412c2df2ce8",
        "colab": {
          "base_uri": "https://localhost:8080/",
          "height": 460
        }
      },
      "source": [
        "# Criação do gráfico de barras para LITO - frequência absoluta:\n",
        "plt.figure(figsize=(12,7))\n",
        "cores = ['yellow', 'gray', 'red', 'pink', 'purple','brown','green']\n",
        "plt.barh(bar, freq_abs,color = cores)\n",
        "plt.title (\"Frequência Absoluta de Litologias na Área\")\n",
        "plt.xticks(np.arange(0,600,50))\n",
        "plt.xlabel(\"Frequência Absoluta\")\n",
        "\n",
        "#plt.savefig(\"bar_lito_abs.jpg\",dpi=300,format=\"jpg\",bbox_inches=\"tight\")\n",
        "plt.show()"
      ],
      "execution_count": 62,
      "outputs": [
        {
          "output_type": "display_data",
          "data": {
            "image/png": "[encoded data removed]",
            "text/plain": [
              "<Figure size 864x504 with 1 Axes>"
            ]
          },
          "metadata": {
            "tags": [],
            "needs_background": "light"
          }
        }
      ]
    },
    {
      "cell_type": "markdown",
      "metadata": {
        "id": "i0xPN9Y4IhYq"
      },
      "source": [
        "#### Frequência Relativa de Ocorrência de Litologias"
      ]
    },
    {
      "cell_type": "code",
      "metadata": {
        "id": "dtcQBli1to6V",
        "outputId": "c5b99c33-fc55-41d4-f895-8c6d2b0e9a28",
        "colab": {
          "base_uri": "https://localhost:8080/",
          "height": 187
        }
      },
      "source": [
        "# Frequência Relativa (%) dos litotipos:\n",
        "contagem = df_temp.LITO.value_counts()\n",
        "print(\"Frequência Relativa Percentual de Litologias na Área:\")\n",
        "print()\n",
        "freq_rel = []\n",
        "for i in range(len(contagem)):\n",
        "  pc = int(round(((contagem.values[i]/contagem.values.sum())*100),0))\n",
        "  freq_rel.append(pc)\n",
        "  print(\"\\t {} ~ {}% \".format(contagem.index[i],pc))\n",
        "print(\"-\"*10)"
      ],
      "execution_count": 63,
      "outputs": [
        {
          "output_type": "stream",
          "text": [
            "Frequência Relativa Percentual de Litologias na Área:\n",
            "\n",
            "\t QUARTZITO ~ 66% \n",
            "\t XISTO ~ 13% \n",
            "\t GNAISSE ~ 9% \n",
            "\t GRANITO ~ 4% \n",
            "\t CONGLOMERADO ~ 4% \n",
            "\t FILITO ~ 4% \n",
            "\t MAFICA ~ 0% \n",
            "----------\n"
          ],
          "name": "stdout"
        }
      ]
    },
    {
      "cell_type": "code",
      "metadata": {
        "id": "jwXpXO-3IT4o",
        "outputId": "1c7cf261-28f5-4b6f-d1c4-a5c743334e73",
        "colab": {
          "base_uri": "https://localhost:8080/",
          "height": 34
        }
      },
      "source": [
        "# Lista de frequência relativa:\n",
        "freq_rel"
      ],
      "execution_count": 64,
      "outputs": [
        {
          "output_type": "execute_result",
          "data": {
            "text/plain": [
              "[66, 13, 9, 4, 4, 4, 0]"
            ]
          },
          "metadata": {
            "tags": []
          },
          "execution_count": 64
        }
      ]
    },
    {
      "cell_type": "code",
      "metadata": {
        "id": "MZq1_OMIMjmK",
        "outputId": "2c04690d-ec54-4ffa-dd31-5d96a8bc149f",
        "colab": {
          "base_uri": "https://localhost:8080/",
          "height": 460
        }
      },
      "source": [
        "# Criação do gráfico de barras para LITO - frequência relativa:\n",
        "plt.figure(figsize=(12,7))\n",
        "cores = ['yellow', 'gray', 'red', 'pink', 'purple','brown','green']\n",
        "plt.barh(bar, freq_rel,color = cores)\n",
        "plt.title (\"Frequência Relativa Percentual de Litologias na Área\")\n",
        "plt.xticks(np.arange(0,70,5))\n",
        "plt.xlabel(\"Frequência Relativa (%)\")\n",
        "plt.annotate(\"66%\",(66.3,0))\n",
        "plt.annotate(\"13%\",(13.2,0.95))\n",
        "plt.annotate(\"9%\",(9.2,1.95))\n",
        "plt.annotate(\"4%\",(4.3,2.95))\n",
        "plt.annotate(\"4%\",(4.3,3.95))\n",
        "plt.annotate(\"4%\",(4.3,4.95))\n",
        "plt.annotate(\"<1%\",(0.4,5.95))\n",
        "\n",
        "#plt.savefig(\"bar_lito_rel.jpg\",dpi=300,format=\"jpg\",bbox_inches=\"tight\")\n",
        "plt.show()"
      ],
      "execution_count": 65,
      "outputs": [
        {
          "output_type": "display_data",
          "data": {
            "image/png": "[encoded data removed]",
            "text/plain": [
              "<Figure size 864x504 with 1 Axes>"
            ]
          },
          "metadata": {
            "tags": [],
            "needs_background": "light"
          }
        }
      ]
    },
    {
      "cell_type": "markdown",
      "metadata": {
        "id": "EIernUN7UvDc"
      },
      "source": [
        "#### Frequência Absoluta de Ocorrência dos Tipos de Estrutura\n",
        "\n",
        "- Percebe-se que apenas as medidas de acamamento e foliação apresentam representatividade estatística para desenvolver as análises posteriores"
      ]
    },
    {
      "cell_type": "code",
      "metadata": {
        "id": "cteKYAs2U6LK"
      },
      "source": [
        "# Criando variável que armazena as frequências absolutas dos tipos de estrutura:\n",
        "freq_abs = (list(df_temp.TIPO.value_counts().values))[:-1]"
      ],
      "execution_count": 66,
      "outputs": []
    },
    {
      "cell_type": "code",
      "metadata": {
        "id": "E27MW_DJVTi5"
      },
      "source": [
        "# Criação das labels das barras:\n",
        "bar = ['Foliação','Acamamento','Fratura','Eixo','Lineação','Veio']"
      ],
      "execution_count": 67,
      "outputs": []
    },
    {
      "cell_type": "code",
      "metadata": {
        "id": "riqfyGM0VFx9",
        "outputId": "fe5078bf-0f46-4a28-a07f-5a04d54f5e6c",
        "colab": {
          "base_uri": "https://localhost:8080/",
          "height": 466
        }
      },
      "source": [
        "# Criação do gráfico de barras:\n",
        "plt.figure(figsize=(12,7))\n",
        "plt.barh(bar,freq_abs,color=\"green\")\n",
        "plt.title (\"Gráfico de Barras - Frequência de Tipos de Medidas Estruturais Adquiridas\",size=16)\n",
        "plt.xticks(np.arange(0,400,50))\n",
        "plt.xlabel(\"Frequência Absoluta\",size=14)\n",
        "\n",
        "#plt.savefig(\"bar_tipo_abs.jpg\",dpi=300,format=\"jpg\",bbox_inches=\"tight\")\n",
        "plt.show()"
      ],
      "execution_count": 68,
      "outputs": [
        {
          "output_type": "display_data",
          "data": {
            "image/png": "[encoded data removed]",
            "text/plain": [
              "<Figure size 864x504 with 1 Axes>"
            ]
          },
          "metadata": {
            "tags": [],
            "needs_background": "light"
          }
        }
      ]
    },
    {
      "cell_type": "markdown",
      "metadata": {
        "id": "_a8bBkhOcYKb"
      },
      "source": [
        "### Sumário Estatístico\n",
        "\n",
        "- S0\n",
        "- SN_ESP\n",
        "- SN_CBH"
      ]
    },
    {
      "cell_type": "code",
      "metadata": {
        "id": "itMrd7Hq7n4j",
        "outputId": "bb56c22e-3301-488e-a47c-f2298b81e17c",
        "colab": {
          "base_uri": "https://localhost:8080/",
          "height": 646
        }
      },
      "source": [
        "# Sumário Estatístico - SN_ESP:\n",
        "print(\"Sumário Estatístico - SN_ESP:\")\n",
        "print(round(SN_ESP.describe(),0))\n",
        "print(\"Moda     \",SN_ESP.DIP_DIR.mode().values[0],\" \",SN_ESP.DIP.mode().values[0])\n",
        "\n",
        "# Sumário Estatístico - SN_CBH:\n",
        "print(\"\\n Sumário Estatístico - SN_CBH:\")\n",
        "print(round(SN_CBH.describe(),0))\n",
        "print(\"Moda     \",SN_CBH.DIP_DIR.mode().values[0],\" \",SN_CBH.DIP.mode().values[0])\n",
        "\n",
        "# Sumário Estatístico - S0:\n",
        "print(\"\\n Sumário Estatístico - S0:\")\n",
        "print(round(S0.describe(),0))\n",
        "print(\"Moda     \",S0.DIP_DIR.mode()[0:3].values[2],\" \",S0.DIP.mode().values[0])\n",
        "print(\"Moda     \",S0.DIP_DIR.mode()[0:3].values[0],\" \",S0.DIP.mode().values[0])\n",
        "print(\"Moda     \",S0.DIP_DIR.mode()[0:3].values[1],\" \",S0.DIP.mode().values[0])\n",
        "\n"
      ],
      "execution_count": 69,
      "outputs": [
        {
          "output_type": "stream",
          "text": [
            "Sumário Estatístico - SN_ESP:\n",
            "       DIP_DIR    DIP  DIRECAO\n",
            "count    246.0  246.0    246.0\n",
            "mean      96.0   52.0     67.0\n",
            "std       30.0   16.0     75.0\n",
            "min       25.0   15.0      0.0\n",
            "25%       85.0   40.0      5.0\n",
            "50%       92.0   50.0     17.0\n",
            "75%      100.0   64.0    163.0\n",
            "max      290.0   89.0    179.0\n",
            "Moda      90.0   50.0\n",
            "\n",
            " Sumário Estatístico - SN_CBH:\n",
            "       DIP_DIR   DIP  DIRECAO\n",
            "count     50.0  50.0     50.0\n",
            "mean     118.0  46.0     50.0\n",
            "std       54.0  16.0     51.0\n",
            "min       31.0  20.0      0.0\n",
            "25%       92.0  37.0     10.0\n",
            "50%      112.0  41.0     40.0\n",
            "75%      134.0  54.0     52.0\n",
            "max      318.0  78.0    177.0\n",
            "Moda      90.0   39.0\n",
            "\n",
            " Sumário Estatístico - S0:\n",
            "       DIP_DIR    DIP  DIRECAO\n",
            "count    199.0  199.0    199.0\n",
            "mean     111.0   46.0     84.0\n",
            "std       72.0   18.0     67.0\n",
            "min        0.0    8.0      0.0\n",
            "25%       70.0   30.0     20.0\n",
            "50%       93.0   45.0     58.0\n",
            "75%      125.0   60.0    150.0\n",
            "max      355.0   83.0    179.0\n",
            "Moda      90.0   45.0\n",
            "Moda      55.0   45.0\n",
            "Moda      70.0   45.0\n"
          ],
          "name": "stdout"
        }
      ]
    },
    {
      "cell_type": "markdown",
      "metadata": {
        "id": "TzgZKCLihtu7"
      },
      "source": [
        "### Histogramas\n",
        "\n",
        "- S0\n",
        "- SN\n",
        "- S_ESP + SN_CBH"
      ]
    },
    {
      "cell_type": "markdown",
      "metadata": {
        "id": "j1mI-CGVhwLY"
      },
      "source": [
        "#### S0 (Geral)"
      ]
    },
    {
      "cell_type": "code",
      "metadata": {
        "id": "5uI_djfTgGIN",
        "outputId": "15248fa8-cc58-44f1-caec-b7e08a4aa152",
        "colab": {
          "base_uri": "https://localhost:8080/",
          "height": 469
        }
      },
      "source": [
        "# Histograma DIP_DIR:\n",
        "\n",
        "m1 = S0.DIP_DIR.value_counts().index[0]\n",
        "m2 = S0.DIP_DIR.value_counts().index[1]\n",
        "m3 = S0.DIP_DIR.value_counts().index[2]\n",
        "m4 = S0.DIP_DIR.value_counts().index[3]\n",
        "m5 = S0.DIP_DIR.value_counts().index[4]\n",
        "\n",
        "# Histograma S0 (DIPDIR):\n",
        "plt.figure(figsize=(16,8))\n",
        "plt.hist(S0.DIP_DIR,bins=18,color=\"yellow\")\n",
        "plt.xticks(np.arange(0,360,20))\n",
        "plt.title(\"Histograma - Acamamento (DIPDIR)\")\n",
        "plt.xlabel(\"DIPDIR (°)\")\n",
        "plt.ylabel(\"Frequência Absoluta\")\n",
        "plt.annotate(\"Cinco Valores mais Frequentes:\",xy=(270,45))\n",
        "plt.annotate(f\"0{int(m2)}° - 10 valores\",xy=(280,42))\n",
        "plt.annotate(f\"0{int(m3)}° - 10 valores\",xy=(280,40))\n",
        "plt.annotate(f\"0{int(m1)}° - 10 valores\",xy=(280,38))\n",
        "plt.annotate(f\"0{int(m4)}° - 09 valores\",xy=(280,36))\n",
        "plt.annotate(f\"0{int(m5)}° - 09 valores\",xy=(280,34))\n",
        "\n",
        "#plt.savefig(\"hist_S0_dipdir.jpg\",dpi=300,format=\"jpg\",bbox_inches=\"tight\")\n",
        "plt.show()"
      ],
      "execution_count": 70,
      "outputs": [
        {
          "output_type": "display_data",
          "data": {
            "image/png": "[encoded data removed]",
            "text/plain": [
              "<Figure size 1152x576 with 1 Axes>"
            ]
          },
          "metadata": {
            "tags": [],
            "needs_background": "light"
          }
        }
      ]
    },
    {
      "cell_type": "code",
      "metadata": {
        "id": "1Af3jFWNp5vh",
        "outputId": "295bce5e-a365-4241-819a-9c99329a05b8",
        "colab": {
          "base_uri": "https://localhost:8080/",
          "height": 469
        }
      },
      "source": [
        "# Histograma DIP:\n",
        "\n",
        "m1 = S0.DIP.value_counts().index[0]\n",
        "m2 = S0.DIP.value_counts().index[1]\n",
        "m3 = S0.DIP.value_counts().index[2]\n",
        "m4 = S0.DIP.value_counts().index[3]\n",
        "m5 = S0.DIP.value_counts().index[4]\n",
        "\n",
        "# Histograma S0 (DIP):\n",
        "plt.figure(figsize=(16,8))\n",
        "plt.hist(S0.DIP,bins=9,color=\"yellow\")\n",
        "plt.xticks(np.arange(0,90,10))\n",
        "plt.title(\"Histograma - Acamamento (DIP)\")\n",
        "plt.xlabel(\"DIP (°)\")\n",
        "plt.ylabel(\"Frequência Absoluta\")\n",
        "plt.annotate(\"Cinco Valores mais Frequentes:\",xy=(58,40))\n",
        "plt.annotate(f\"0{int(m1)}° - 27 valores\",xy=(60,37))\n",
        "plt.annotate(f\"0{int(m2)}° - 17 valores\",xy=(60,35))\n",
        "plt.annotate(f\"0{int(m3)}° - 09 valores\",xy=(60,33))\n",
        "plt.annotate(f\"0{int(m4)}° - 09 valores\",xy=(60,31))\n",
        "plt.annotate(f\"0{int(m5)}° - 09 valores\",xy=(60,29))\n",
        "\n",
        "#plt.savefig(\"hist_S0_dip.jpg\",dpi=300,format=\"jpg\",bbox_inches=\"tight\")\n",
        "plt.show()"
      ],
      "execution_count": 71,
      "outputs": [
        {
          "output_type": "display_data",
          "data": {
            "image/png": "[encoded data removed]",
            "text/plain": [
              "<Figure size 1152x576 with 1 Axes>"
            ]
          },
          "metadata": {
            "tags": [],
            "needs_background": "light"
          }
        }
      ]
    },
    {
      "cell_type": "markdown",
      "metadata": {
        "id": "im6Z_b9jtogS"
      },
      "source": [
        "#### Sn (Geral)"
      ]
    },
    {
      "cell_type": "code",
      "metadata": {
        "id": "EyPC4XLetxm-",
        "outputId": "5133e372-1558-4b30-9f20-1649711f1d83",
        "colab": {
          "base_uri": "https://localhost:8080/",
          "height": 461
        }
      },
      "source": [
        "# Histograma DIP_DIR:\n",
        "\n",
        "m1 = SN.DIP_DIR.value_counts().index[0]\n",
        "m2 = SN.DIP_DIR.value_counts().index[1]\n",
        "m3 = SN.DIP_DIR.value_counts().index[2]\n",
        "m4 = SN.DIP_DIR.value_counts().index[3]\n",
        "m5 = SN.DIP_DIR.value_counts().index[4]\n",
        "\n",
        "# Histograma Sn (DIPDIR):\n",
        "plt.figure(figsize=(16,8))\n",
        "plt.hist(SN.DIP_DIR,bins=18,color=\"gray\")\n",
        "plt.xticks(np.arange(0,360,20))\n",
        "plt.title(\"Histograma - Foliação (DIPDIR)\")\n",
        "plt.xlabel(\"DIPDIR (°)\")\n",
        "plt.ylabel(\"Frequência Absoluta\")\n",
        "plt.annotate(\"Cinco Valores mais Frequentes:\",xy=(210,60))\n",
        "plt.annotate(f\"0{int(m1)}° - 39 valores\",xy=(220,55))\n",
        "plt.annotate(f\"{int(m2)}° - 32 valores\",xy=(220,51))\n",
        "plt.annotate(f\"0{int(m3)}° - 19 valores\",xy=(220,47))\n",
        "plt.annotate(f\"0{int(m4)}° - 18 valores\",xy=(220,43))\n",
        "plt.annotate(f\"0{int(m5)}° - 16 valores\",xy=(220,39))\n",
        "\n",
        "#plt.savefig(\"hist_SN_dipdir.jpg\",dpi=300,format=\"jpg\",bbox_inches=\"tight\")\n",
        "plt.show()"
      ],
      "execution_count": 72,
      "outputs": [
        {
          "output_type": "display_data",
          "data": {
            "image/png": "[encoded data removed]",
            "text/plain": [
              "<Figure size 1152x576 with 1 Axes>"
            ]
          },
          "metadata": {
            "tags": [],
            "needs_background": "light"
          }
        }
      ]
    },
    {
      "cell_type": "code",
      "metadata": {
        "id": "l_gxTFY-st4S",
        "outputId": "c6098724-e716-43e4-b53b-ffcb3672d4d3",
        "colab": {
          "base_uri": "https://localhost:8080/",
          "height": 469
        }
      },
      "source": [
        "# Histograma DIP:\n",
        "\n",
        "m1 = SN.DIP.value_counts().index[0]\n",
        "m2 = SN.DIP.value_counts().index[1]\n",
        "m3 = SN.DIP.value_counts().index[2]\n",
        "m4 = SN.DIP.value_counts().index[3]\n",
        "m5 = SN.DIP.value_counts().index[4]\n",
        "\n",
        "# Histograma Sn (DIP):\n",
        "plt.figure(figsize=(16,8))\n",
        "plt.hist(SN.DIP,bins=9,color=\"gray\")\n",
        "plt.xticks(np.arange(0,90,10))\n",
        "plt.title(\"Histograma - Foliação (DIP)\")\n",
        "plt.xlabel(\"DIP (°)\")\n",
        "plt.ylabel(\"Frequência Absoluta\")\n",
        "plt.annotate(\"Cinco Valores mais Frequentes:\",xy=(65,50))\n",
        "plt.annotate(f\"0{int(m1)}° - 37 valores\",xy=(67,47))\n",
        "plt.annotate(f\"0{int(m2)}° - 27 valores\",xy=(67,45))\n",
        "plt.annotate(f\"0{int(m3)}° - 24 valores\",xy=(67,43))\n",
        "plt.annotate(f\"0{int(m4)}° - 19 valores\",xy=(67,41))\n",
        "plt.annotate(f\"0{int(m5)}° - 14 valores\",xy=(67,39))\n",
        "\n",
        "#plt.savefig(\"hist_SN_dip.jpg\",dpi=300,format=\"jpg\",bbox_inches=\"tight\")\n",
        "plt.show()"
      ],
      "execution_count": 73,
      "outputs": [
        {
          "output_type": "display_data",
          "data": {
            "image/png": "[encoded data removed]",
            "text/plain": [
              "<Figure size 1152x576 with 1 Axes>"
            ]
          },
          "metadata": {
            "tags": [],
            "needs_background": "light"
          }
        }
      ]
    },
    {
      "cell_type": "markdown",
      "metadata": {
        "id": "rgmTzuTfdRcQ"
      },
      "source": [
        "#### Sn_ESP + Sn_CBH"
      ]
    },
    {
      "cell_type": "code",
      "metadata": {
        "id": "nW3CbeYHg9Bv",
        "outputId": "ab5c21ef-bf37-4076-98dc-d6621cad0da7",
        "colab": {
          "base_uri": "https://localhost:8080/",
          "height": 408
        }
      },
      "source": [
        "# Histogramas DIP_DIR:\n",
        "\n",
        "plt.figure(figsize=(12,6))\n",
        "plt.hist(SN_ESP.DIP_DIR, bins=18, alpha=0.5, label=\"Sn_ESP\",density=True,\n",
        "         stacked=True)\n",
        "plt.hist(SN_CBH.DIP_DIR, bins=18, alpha=0.5, label=\"Sn_CBH\",density=True,\n",
        "         stacked=True)\n",
        "\n",
        "plt.xlabel(\"Sn_ESP + Sn_CBH\", size=14)\n",
        "plt.ylabel(\"Densidade\", size=14)\n",
        "plt.title(\"Histogramas - Sn_ESP & Sn_ESP\")\n",
        "plt.legend(loc='upper right')\n",
        "plt.show()"
      ],
      "execution_count": 120,
      "outputs": [
        {
          "output_type": "display_data",
          "data": {
            "image/png": "[encoded data removed]",
            "text/plain": [
              "<Figure size 864x432 with 1 Axes>"
            ]
          },
          "metadata": {
            "tags": [],
            "needs_background": "light"
          }
        }
      ]
    },
    {
      "cell_type": "code",
      "metadata": {
        "id": "PincsPZOdXpZ",
        "outputId": "f05134b0-17b2-4949-bfbb-2d1ec10a8539",
        "colab": {
          "base_uri": "https://localhost:8080/",
          "height": 408
        }
      },
      "source": [
        "# Curvas de frequência acumulada DIP_DIR:\n",
        "plt.figure(figsize=(12,6))\n",
        "plt.hist(SN_ESP.DIP_DIR, bins=18, alpha=0.5, label=\"Sn_ESP\",stacked=True,\n",
        "         cumulative=True,density=True,histtype=\"step\")\n",
        "plt.hist(SN_CBH.DIP_DIR, bins=18, alpha=0.5, label=\"Sn_CBH\",stacked=True,\n",
        "         cumulative=True,density=True,histtype=\"step\")\n",
        "\n",
        "plt.xlabel(\"Sn_ESP + Sn_CBH\", size=14)\n",
        "plt.ylabel(\"Densidade Acumulada\", size=14)\n",
        "plt.title(\"Histogramas - Sn_ESP & Sn_CBH\")\n",
        "plt.legend(loc='upper left')\n",
        "plt.show()"
      ],
      "execution_count": 121,
      "outputs": [
        {
          "output_type": "display_data",
          "data": {
            "image/png": "[encoded data removed]",
            "text/plain": [
              "<Figure size 864x432 with 1 Axes>"
            ]
          },
          "metadata": {
            "tags": [],
            "needs_background": "light"
          }
        }
      ]
    },
    {
      "cell_type": "markdown",
      "metadata": {
        "id": "bpG_EFJcEo6z"
      },
      "source": [
        "## Medidas Estruturais - Domínios E e W\n",
        "\n",
        "- Enquanto a porção E conta com 655 instâncias, a porção W apresenta apenas 37 exemplos\n",
        "\n",
        "- Então, não há representatividade em questão de tamanho de amostra para a porção W\n",
        "\n",
        "- Nesse sentido, como os domínios encontram-se desbalanceados em questões de amostras, não é possível compará-los do ponto de vista estatístico para verificar se existem semelhanças entre as duas amostras\n",
        "\n",
        "- Portanto, como não é possível comparar as estatísticas entre as amostras da porção E e W da área, deverá ser realizada a comparação dos lineamentos traçados para cada um dos compartimentos"
      ]
    },
    {
      "cell_type": "code",
      "metadata": {
        "id": "mmKt-jIYEt9F"
      },
      "source": [
        "# Importação dados estruturais porção E:\n",
        "path10 = \"/content/drive/My Drive/Colab Notebooks/Datasets/PONTOS_E.csv\"\n",
        "df_E = pd.read_csv(path10, header=0,sep=\",\",index_col=False)\n",
        "\n",
        "# Importação dados estruturais porção W:\n",
        "path11 = \"/content/drive/My Drive/Colab Notebooks/Datasets/PONTOS_W.csv\"\n",
        "df_W = pd.read_csv(path11, header=0,sep=\",\",index_col=False)"
      ],
      "execution_count": 76,
      "outputs": []
    },
    {
      "cell_type": "code",
      "metadata": {
        "id": "PXrpouLsFOj_"
      },
      "source": [
        "# Excluindo colunas desnecessárias:\n",
        "df_E.drop([\"FID\",\"PID\"],axis=1,inplace=True)\n",
        "df_W.drop([\"FID\",\"PID\"],axis=1,inplace=True)"
      ],
      "execution_count": 77,
      "outputs": []
    },
    {
      "cell_type": "code",
      "metadata": {
        "id": "eztiAF15S9Xr",
        "outputId": "61d585ec-51fd-4b59-dd88-8821918ec560",
        "colab": {
          "base_uri": "https://localhost:8080/",
          "height": 255
        }
      },
      "source": [
        "# Informações gerais sobre os dados da porção E:\n",
        "df_E.info()"
      ],
      "execution_count": 78,
      "outputs": [
        {
          "output_type": "stream",
          "text": [
            "<class 'pandas.core.frame.DataFrame'>\n",
            "RangeIndex: 655 entries, 0 to 654\n",
            "Data columns (total 7 columns):\n",
            " #   Column   Non-Null Count  Dtype \n",
            "---  ------   --------------  ----- \n",
            " 0   PONTO    655 non-null    int64 \n",
            " 1   UNID     586 non-null    object\n",
            " 2   LITO     655 non-null    object\n",
            " 3   TIPO     655 non-null    object\n",
            " 4   DIP_DIR  655 non-null    int64 \n",
            " 5   DIP      655 non-null    int64 \n",
            " 6   GRUPO    655 non-null    int64 \n",
            "dtypes: int64(4), object(3)\n",
            "memory usage: 35.9+ KB\n"
          ],
          "name": "stdout"
        }
      ]
    },
    {
      "cell_type": "code",
      "metadata": {
        "id": "Ls6KCuthTERa",
        "outputId": "859fa327-ad69-4487-edbd-0b482e483991",
        "colab": {
          "base_uri": "https://localhost:8080/",
          "height": 255
        }
      },
      "source": [
        "# Informações gerais sobre os dados da porção W:\n",
        "df_W.info()"
      ],
      "execution_count": 79,
      "outputs": [
        {
          "output_type": "stream",
          "text": [
            "<class 'pandas.core.frame.DataFrame'>\n",
            "RangeIndex: 37 entries, 0 to 36\n",
            "Data columns (total 7 columns):\n",
            " #   Column   Non-Null Count  Dtype \n",
            "---  ------   --------------  ----- \n",
            " 0   PONTO    37 non-null     int64 \n",
            " 1   UNID     22 non-null     object\n",
            " 2   LITO     37 non-null     object\n",
            " 3   TIPO     37 non-null     object\n",
            " 4   DIP_DIR  37 non-null     int64 \n",
            " 5   DIP      37 non-null     int64 \n",
            " 6   GRUPO    37 non-null     int64 \n",
            "dtypes: int64(4), object(3)\n",
            "memory usage: 2.1+ KB\n"
          ],
          "name": "stdout"
        }
      ]
    },
    {
      "cell_type": "code",
      "metadata": {
        "id": "4yct51duFQkx"
      },
      "source": [
        "# Atitudes de foliação na porção W:\n",
        "SN_W = df_W.query(\"TIPO == 'SN'\")[[\"DIP_DIR\",\"DIP\"]]\n",
        "\n",
        "# Atitudes de foliação do Espinhaço na porção W:\n",
        "SN_ESP_W = df_W.query(\"UNID == 'ESP' & TIPO == 'SN'\")[[\"DIP_DIR\",\"DIP\"]]\n",
        "\n",
        "# Atitudes de foliação do Cx. Belo Horizonte na porção W:\n",
        "SN_CBH_W = df_W.query(\"UNID == 'CBH' & TIPO == 'SN'\")[[\"DIP_DIR\",\"DIP\"]]\n",
        "\n",
        "# Atitudes de acamamento na porção W:\n",
        "S0_W = df_W.query(\"TIPO == 'S0'\")[[\"DIP_DIR\",\"DIP\"]]"
      ],
      "execution_count": 80,
      "outputs": []
    },
    {
      "cell_type": "code",
      "metadata": {
        "id": "2h4sTBswFuMT"
      },
      "source": [
        "# Atitudes de foliação na porção E:\n",
        "SN_E = df_E.query(\"TIPO == 'SN'\")[[\"DIP_DIR\",\"DIP\"]]\n",
        "\n",
        "# Atitudes de foliação do Espinhaço na porção E:\n",
        "SN_ESP_E = df_E.query(\"UNID == 'ESP' & TIPO == 'SN'\")[[\"DIP_DIR\",\"DIP\"]]\n",
        "\n",
        "# Atitudes de foliação do Cx. Belo Horizonte na porção E:\n",
        "SN_CBH_E = df_E.query(\"UNID == 'CBH' & TIPO == 'SN'\")[[\"DIP_DIR\",\"DIP\"]]\n",
        "\n",
        "# Atitudes de acamamento na porção E:\n",
        "S0_E = df_E.query(\"TIPO == 'S0'\")[[\"DIP_DIR\",\"DIP\"]]"
      ],
      "execution_count": 81,
      "outputs": []
    },
    {
      "cell_type": "code",
      "metadata": {
        "id": "8xzuju8uI7dx"
      },
      "source": [
        "## Aplicando função para criar atributo de direção das estruturas:\n",
        "\n",
        "# Estruturas do domínio E:\n",
        "S0_E['DIRECAO'] = S0_E['DIP_DIR'].map(direcao)\n",
        "SN_ESP_E['DIRECAO'] = SN_ESP_E['DIP_DIR'].map(direcao)\n",
        "SN_CBH_E['DIRECAO'] = SN_CBH_E['DIP_DIR'].map(direcao)\n",
        "SN_E['DIRECAO'] = SN_E['DIP_DIR'].map(direcao)\n",
        "\n",
        "# Estruturas do domínio W:\n",
        "S0_W['DIRECAO'] = S0_W['DIP_DIR'].map(direcao)\n",
        "SN_ESP_W['DIRECAO'] = SN_ESP_W['DIP_DIR'].map(direcao)\n",
        "SN_CBH_W['DIRECAO'] = SN_CBH_W['DIP_DIR'].map(direcao)\n",
        "SN_W['DIRECAO'] = SN_W['DIP_DIR'].map(direcao)"
      ],
      "execution_count": 82,
      "outputs": []
    },
    {
      "cell_type": "markdown",
      "metadata": {
        "id": "8AMAhd52R593"
      },
      "source": [
        "### Sumários Estatísticos\n",
        "\n",
        "- S0 (E)\n",
        "- S0 (W)\n",
        "- SN_ESP (E)\n",
        "- SN_ESP (W)\n",
        "- SN_CBH (E)\n",
        "- SN_CBH (W)"
      ]
    },
    {
      "cell_type": "code",
      "metadata": {
        "id": "rTyY5BqCETCQ",
        "outputId": "ddf77373-e555-4edd-bc5d-f5eb41ce966a",
        "colab": {
          "base_uri": "https://localhost:8080/",
          "height": 374
        }
      },
      "source": [
        "# Sumário Estatístico Acamamento - Porções W e E:\n",
        "\n",
        "print(\"Sumário Estatístico - S0 (E):\")\n",
        "print(S0_E.describe())\n",
        "\n",
        "print(\"\\n Sumário Estatístico - S0 (W):\")\n",
        "print(S0_W.describe())"
      ],
      "execution_count": 83,
      "outputs": [
        {
          "output_type": "stream",
          "text": [
            "Sumário Estatístico - S0 (E):\n",
            "          DIP_DIR         DIP     DIRECAO\n",
            "count  193.000000  193.000000  193.000000\n",
            "mean   110.901554   46.471503   86.186528\n",
            "std     72.929801   17.360770   67.201938\n",
            "min      0.000000    8.000000    0.000000\n",
            "25%     70.000000   30.000000   20.000000\n",
            "50%     92.000000   45.000000   85.000000\n",
            "75%    125.000000   60.000000  151.000000\n",
            "max    355.000000   83.000000  179.000000\n",
            "\n",
            " Sumário Estatístico - S0 (W):\n",
            "          DIP_DIR        DIP    DIRECAO\n",
            "count    6.000000   6.000000   6.000000\n",
            "mean   113.333333  17.833333  23.333333\n",
            "std      6.831301   4.708149   6.831301\n",
            "min    100.000000  12.000000  10.000000\n",
            "25%    115.000000  15.000000  25.000000\n",
            "50%    115.000000  17.500000  25.000000\n",
            "75%    115.000000  20.000000  25.000000\n",
            "max    120.000000  25.000000  30.000000\n"
          ],
          "name": "stdout"
        }
      ]
    },
    {
      "cell_type": "code",
      "metadata": {
        "id": "P-UluX5PSAdS",
        "outputId": "9a433038-1c7a-459d-a17d-1c0dd6f2cdae",
        "colab": {
          "base_uri": "https://localhost:8080/",
          "height": 374
        }
      },
      "source": [
        "# Sumário Estatístico Foliação Espinhaço - Porções E e W:\n",
        "\n",
        "print(\"Sumário Estatístico - Sn Espinhaço (E):\")\n",
        "print(SN_ESP_E.describe())\n",
        "\n",
        "print(\"\\n Sumário Estatístico - Sn Espinhaço (W):\")\n",
        "print(SN_ESP_W.describe())"
      ],
      "execution_count": 84,
      "outputs": [
        {
          "output_type": "stream",
          "text": [
            "Sumário Estatístico - Sn Espinhaço (E):\n",
            "          DIP_DIR         DIP     DIRECAO\n",
            "count  230.000000  230.000000  230.000000\n",
            "mean    96.426087   51.817391   68.252174\n",
            "std     31.173010   15.641219   75.347445\n",
            "min     25.000000   15.000000    0.000000\n",
            "25%     85.000000   40.000000    5.000000\n",
            "50%     92.000000   50.000000   19.000000\n",
            "75%    101.500000   64.000000  163.000000\n",
            "max    290.000000   88.000000  179.000000\n",
            "\n",
            " Sumário Estatístico - Sn Espinhaço (W):\n",
            "          DIP_DIR        DIP    DIRECAO\n",
            "count   13.000000  13.000000   13.00000\n",
            "mean    91.153846  49.538462   15.00000\n",
            "std      5.942028  21.550775   45.53021\n",
            "min     76.000000  22.000000    0.00000\n",
            "25%     90.000000  35.000000    0.00000\n",
            "50%     90.000000  45.000000    0.00000\n",
            "75%     93.000000  60.000000    6.00000\n",
            "max    100.000000  89.000000  166.00000\n"
          ],
          "name": "stdout"
        }
      ]
    },
    {
      "cell_type": "code",
      "metadata": {
        "id": "_YOq0jXtShx5",
        "outputId": "9f2ba3b7-8a6e-4d07-c8ed-65157060b02c",
        "colab": {
          "base_uri": "https://localhost:8080/",
          "height": 374
        }
      },
      "source": [
        "# Sumário Estatístico Foliação CBH - Porções E e W:\n",
        "\n",
        "print(\"Sumário Estatístico - Sn CBH (E):\")\n",
        "print(SN_CBH_E.describe())\n",
        "\n",
        "print(\"\\n Sumário Estatístico - Sn CBH (W):\")\n",
        "print(SN_CBH_W.describe())"
      ],
      "execution_count": 85,
      "outputs": [
        {
          "output_type": "stream",
          "text": [
            "Sumário Estatístico - Sn CBH (E):\n",
            "          DIP_DIR        DIP     DIRECAO\n",
            "count   48.000000  48.000000   48.000000\n",
            "mean   118.895833  45.604167   51.395833\n",
            "std     54.784390  16.666618   51.328620\n",
            "min     31.000000  20.000000    0.000000\n",
            "25%     91.000000  37.000000   10.000000\n",
            "50%    114.500000  41.000000   40.000000\n",
            "75%    135.000000  55.250000   52.750000\n",
            "max    318.000000  78.000000  177.000000\n",
            "\n",
            " Sumário Estatístico - Sn CBH (W):\n",
            "          DIP_DIR        DIP    DIRECAO\n",
            "count    2.000000   2.000000   2.000000\n",
            "mean   101.000000  46.500000  11.000000\n",
            "std      1.414214   3.535534   1.414214\n",
            "min    100.000000  44.000000  10.000000\n",
            "25%    100.500000  45.250000  10.500000\n",
            "50%    101.000000  46.500000  11.000000\n",
            "75%    101.500000  47.750000  11.500000\n",
            "max    102.000000  49.000000  12.000000\n"
          ],
          "name": "stdout"
        }
      ]
    },
    {
      "cell_type": "markdown",
      "metadata": {
        "id": "fcReb9ZKXW6U"
      },
      "source": [
        "## Comparação entre Lineamentos dos Compartimentos E e W"
      ]
    },
    {
      "cell_type": "code",
      "metadata": {
        "id": "dFh-h5ZZXba3"
      },
      "source": [
        "# Importação Lineamentos Negativos (Total):\n",
        "path1 = \"/content/drive/My Drive/Colab Notebooks/Datasets/Lineamentos Adensados Altamira/L_NEG_TOTAL.txt\"\n",
        "lin_neg_tot = pd.read_csv(path1,header=0,sep=\"\\t\",index_col=False)\n",
        "\n",
        "# Importação Lineamentos Positivos (Total):\n",
        "path2 = \"/content/drive/My Drive/Colab Notebooks/Datasets/Lineamentos Adensados Altamira/L_POSI_TOTAL.txt\"\n",
        "lin_pos_tot = pd.read_csv(path2,header=0,sep=\"\\t\",index_col=False)\n",
        "\n",
        "# Importação Lineamentos Negativos (W):\n",
        "path3 = \"/content/drive/My Drive/Colab Notebooks/Datasets/Lineamentos Adensados Altamira/L_NEG_W.txt\"\n",
        "lin_neg_w = pd.read_csv(path3,header=0,sep=\"\\t\",index_col=False)\n",
        "\n",
        "# Importação Lineamentos Positivos (W):\n",
        "path4 = \"/content/drive/My Drive/Colab Notebooks/Datasets/Lineamentos Adensados Altamira/L_POSI_W.txt\"\n",
        "lin_pos_w = pd.read_csv(path4,header=0,sep=\"\\t\",index_col=False)\n",
        "\n",
        "# Importação Lineamentos Negativos (E):\n",
        "path5 = \"/content/drive/My Drive/Colab Notebooks/Datasets/Lineamentos Adensados Altamira/L_NEG_E.txt\"\n",
        "lin_neg_e = pd.read_csv(path5,header=0,sep=\"\\t\",index_col=False)\n",
        "\n",
        "# Importação Lineamentos Positivos (E):\n",
        "path6 = \"/content/drive/My Drive/Colab Notebooks/Datasets/Lineamentos Adensados Altamira/L_POSI_E.txt\"\n",
        "lin_pos_e = pd.read_csv(path6,header=0,sep=\"\\t\",index_col=False)"
      ],
      "execution_count": 86,
      "outputs": []
    },
    {
      "cell_type": "code",
      "metadata": {
        "id": "KC5Vo-stGy_j"
      },
      "source": [
        "# Aplicação da função que padroniza o trend dos lineamentos:\n",
        "lin_pos_e['TREND_PADRONIZADO'] = lin_pos_e['TREND'].map(padronizar)\n",
        "lin_pos_w['TREND_PADRONIZADO'] = lin_pos_w['TREND'].map(padronizar)\n",
        "lin_neg_e['TREND_PADRONIZADO'] = lin_neg_e['TREND'].map(padronizar)\n",
        "lin_neg_w['TREND_PADRONIZADO'] = lin_neg_w['TREND'].map(padronizar)\n",
        "lin_pos_tot['TREND_PADRONIZADO'] = lin_pos_tot['TREND'].map(padronizar)\n",
        "lin_neg_tot['TREND_PADRONIZADO'] = lin_neg_tot['TREND'].map(padronizar)"
      ],
      "execution_count": 87,
      "outputs": []
    },
    {
      "cell_type": "markdown",
      "metadata": {
        "id": "YAXpguS7PD5F"
      },
      "source": [
        "### Sumário Estatístico"
      ]
    },
    {
      "cell_type": "code",
      "metadata": {
        "id": "8EiAQAKGPJxQ",
        "outputId": "743452c2-e330-4b6d-98b4-b1ace8f0e225",
        "colab": {
          "base_uri": "https://localhost:8080/",
          "height": 374
        }
      },
      "source": [
        "# Sumário Lineamentos Positivos:\n",
        "print(\"Sumário Estatístico - Lineamentos Positivos (E):\")\n",
        "print(lin_pos_e.describe())\n",
        "\n",
        "print(\"\\n Sumário Estatístico - Lineamentos Positivos (W):\")\n",
        "print(lin_pos_w.describe())"
      ],
      "execution_count": 88,
      "outputs": [
        {
          "output_type": "stream",
          "text": [
            "Sumário Estatístico - Lineamentos Positivos (E):\n",
            "            TREND  PLUNGE  TREND_PADRONIZADO\n",
            "count  925.000000   925.0         925.000000\n",
            "mean   187.407568     0.0          91.667027\n",
            "std    152.478965     0.0          65.160918\n",
            "min      1.000000     0.0           1.000000\n",
            "25%     26.000000     0.0          26.000000\n",
            "50%    283.000000     0.0         103.000000\n",
            "75%    339.000000     0.0         159.000000\n",
            "max    359.000000     0.0         179.000000\n",
            "\n",
            " Sumário Estatístico - Lineamentos Positivos (W):\n",
            "            TREND  PLUNGE  TREND_PADRONIZADO\n",
            "count  707.000000   707.0         707.000000\n",
            "mean   213.256011     0.0         101.487977\n",
            "std    142.095580     0.0          58.521741\n",
            "min      1.000000     0.0           1.000000\n",
            "25%     51.000000     0.0          51.000000\n",
            "50%    295.000000     0.0         115.000000\n",
            "75%    334.000000     0.0         154.000000\n",
            "max    359.000000     0.0         179.000000\n"
          ],
          "name": "stdout"
        }
      ]
    },
    {
      "cell_type": "markdown",
      "metadata": {
        "id": "uhAMBfQJAUnW"
      },
      "source": [
        "### Lineamentos Positivos W x Lineamentos Positivos E\n",
        "\n",
        "- Embora os histogramas aparentam ser semelhantes, a realização do Teste de Kolmogorov-Smirnov mostra que as amostras (lineamentos positivos W e lineamentos positivos E) **NÃO pertencem à mesma distribuição**."
      ]
    },
    {
      "cell_type": "code",
      "metadata": {
        "id": "o126eVBtAe8f",
        "outputId": "30a4e7fe-4321-4ce8-a6c1-c30984936c77",
        "colab": {
          "base_uri": "https://localhost:8080/",
          "height": 410
        }
      },
      "source": [
        "# Histograma:\n",
        "plt.figure(figsize=(12,6))\n",
        "plt.hist(lin_pos_w.TREND_PADRONIZADO, bins=18, alpha=0.5, label=\"Lineamentos Positivos (W)\",\n",
        "         density=True)\n",
        "plt.hist(lin_pos_e.TREND_PADRONIZADO, bins=18, alpha=0.5, label=\"Lineamentos Positivos (E)\",\n",
        "         density=True)\n",
        "\n",
        "plt.xlabel(\"Azimute\", size=12)\n",
        "plt.xticks(np.arange(0,190,step=10))\n",
        "plt.ylabel(\"Densidade\", size=12)\n",
        "plt.title(\"Histogramas - Lineamentos Positivos dos Domínios Leste e Oeste\",\n",
        "          size=16)\n",
        "plt.legend(loc='upper center')\n",
        "\n",
        "#plt.savefig(\"hist_lin_pos_E_W.jpg\",dpi=300,format=\"jpg\",bbox_inches=\"tight\")\n",
        "plt.show()"
      ],
      "execution_count": 89,
      "outputs": [
        {
          "output_type": "display_data",
          "data": {
            "image/png": "[encoded data removed]",
            "text/plain": [
              "<Figure size 864x432 with 1 Axes>"
            ]
          },
          "metadata": {
            "tags": [],
            "needs_background": "light"
          }
        }
      ]
    },
    {
      "cell_type": "code",
      "metadata": {
        "id": "aFdzxGFa0W-q",
        "outputId": "129eeb9e-9f00-414e-a5e4-0e2b836a8421",
        "colab": {
          "base_uri": "https://localhost:8080/",
          "height": 409
        }
      },
      "source": [
        "# Curva de Densidade Acumulada:\n",
        "plt.figure(figsize=(14,6))\n",
        "plt.hist(lin_pos_w.TREND_PADRONIZADO, bins=360, alpha=0.5, label=\"Lineamentos Positivos (W)\",\n",
        "         cumulative=True,density=True,histtype=\"step\")\n",
        "plt.hist(lin_pos_e.TREND_PADRONIZADO, bins=360, alpha=0.5, label=\"Lineamentos Positivos (E)\",\n",
        "         cumulative=True,density=True,histtype=\"step\")\n",
        "\n",
        "plt.xlabel(\"Azimute\", size=12)\n",
        "plt.xticks(np.arange(0,190,step=10))\n",
        "plt.ylabel(\"Densidade Acumulada\", size=12)\n",
        "plt.title(\"Curva de Densidade Acumulada - Lineamentos Positivos dos Domínios Leste e Oeste\",\n",
        "          size=16)\n",
        "plt.legend(loc='upper left')\n",
        "\n",
        "plt.savefig(\"cum_lin_pos_E_W.jpg\",dpi=300,format=\"jpg\",bbox_inches=\"tight\")\n",
        "#plt.show()"
      ],
      "execution_count": 90,
      "outputs": [
        {
          "output_type": "display_data",
          "data": {
            "image/png": "[encoded data removed]",
            "text/plain": [
              "<Figure size 1008x432 with 1 Axes>"
            ]
          },
          "metadata": {
            "tags": [],
            "needs_background": "light"
          }
        }
      ]
    },
    {
      "cell_type": "markdown",
      "metadata": {
        "id": "txTMfO2ki2Nj"
      },
      "source": [
        "#### Teste de Kolmogorov-Smirnov Biamostral\n",
        "\n",
        "- Esse teste fora executado para verificar se os lineamentos positivos das porções E e W pertencem a uma mesma distribuição\n",
        "\n",
        "- Pode ser realizados para variáveis discretas\n",
        "\n",
        "- **H0**: as duas amostras são oriundas da mesma distribuição\n",
        "\n",
        "- **Ha**: as duas amostras NÃO são oriundas da mesma distribuição\n",
        "\n",
        "- **Conclusão**: como **p-valor <<< 0.01**, há fortes evidências para **REJEITAR** H0. Portanto, os lineamentos positivos das porções E e W não pertencem a uma mesma distribuição e não podem ser tratados como um só grupo"
      ]
    },
    {
      "cell_type": "code",
      "metadata": {
        "id": "2sy2aAqazOQt",
        "outputId": "dc902f9e-572e-4754-952b-71f6a751210c",
        "colab": {
          "base_uri": "https://localhost:8080/",
          "height": 34
        }
      },
      "source": [
        "# Teste de Kolmogorov-Smirnov:\n",
        "stats.ks_2samp(data1=lin_pos_w.TREND,data2=lin_pos_e.TREND)"
      ],
      "execution_count": 91,
      "outputs": [
        {
          "output_type": "execute_result",
          "data": {
            "text/plain": [
              "Ks_2sampResult(statistic=0.16014220727092016, pvalue=1.9083776781059214e-09)"
            ]
          },
          "metadata": {
            "tags": []
          },
          "execution_count": 91
        }
      ]
    },
    {
      "cell_type": "markdown",
      "metadata": {
        "id": "I1lgxwPMBxyH"
      },
      "source": [
        "### Lineamentos Negativos W x Lineamentos Negativos E\n",
        "\n",
        "- Embora os histogramas aparentam ser semelhantes, a realização do Teste de Kolmogorov-Smirnov mostra que as amostras (lineamentos positivos W e lineamentos positivos E) **NÃO pertencem à mesma distribuição."
      ]
    },
    {
      "cell_type": "code",
      "metadata": {
        "id": "nLtTgt5aB6Xs",
        "outputId": "f11922c3-7545-4885-91cb-45d4e7af7839",
        "colab": {
          "base_uri": "https://localhost:8080/",
          "height": 410
        }
      },
      "source": [
        "# Histograma:\n",
        "plt.figure(figsize=(12,6))\n",
        "plt.hist(lin_neg_w.TREND_PADRONIZADO, bins=18, alpha=0.5, label=\"Lineamentos Negativos (W)\",\n",
        "         density=True)\n",
        "plt.hist(lin_neg_e.TREND_PADRONIZADO, bins=18, alpha=0.5, label=\"Lineamentos Negativos (E)\",\n",
        "         density=True)\n",
        "\n",
        "plt.xlabel(\"Azimute\", size=12)\n",
        "plt.xticks(np.arange(0,190,step=10))\n",
        "plt.ylabel(\"Densidade\", size=12)\n",
        "plt.title(\"Histogramas - Lineamentos Negativos dos Domínios Leste e Oeste\",\n",
        "          size=16)\n",
        "plt.legend(loc='upper center')\n",
        "\n",
        "#plt.savefig(\"hist_lin_neg_E_W.jpg\",dpi=300,format=\"jpg\",bbox_inches=\"tight\")\n",
        "plt.show()"
      ],
      "execution_count": 92,
      "outputs": [
        {
          "output_type": "display_data",
          "data": {
            "image/png": "[encoded data removed]",
            "text/plain": [
              "<Figure size 864x432 with 1 Axes>"
            ]
          },
          "metadata": {
            "tags": [],
            "needs_background": "light"
          }
        }
      ]
    },
    {
      "cell_type": "code",
      "metadata": {
        "id": "7TE6E-Da07Nb",
        "outputId": "4e1b036e-f971-42b1-def0-0f177000cfe2",
        "colab": {
          "base_uri": "https://localhost:8080/",
          "height": 410
        }
      },
      "source": [
        "# Curva de Densidade Acumulada:\n",
        "plt.figure(figsize=(14,6))\n",
        "plt.hist(lin_neg_w.TREND_PADRONIZADO, bins=360, alpha=0.5, label=\"Lineamentos Negativos (W)\",\n",
        "         cumulative=True,density=True,histtype=\"step\")\n",
        "plt.hist(lin_neg_e.TREND_PADRONIZADO, bins=360, alpha=0.5, label=\"Lineamentos Negativos (E)\",\n",
        "         cumulative=True,density=True,histtype=\"step\")\n",
        "\n",
        "plt.xlabel(\"Azimute\", size=12)\n",
        "plt.xticks(np.arange(0,190,step=10))\n",
        "plt.ylabel(\"Densidade Acumulada\", size=12)\n",
        "plt.title(\"Curva de Densidade Acumulada - Lineamentos Negativos dos Domínios Leste e Oeste\",\n",
        "          size=16)\n",
        "plt.legend(loc='upper left')\n",
        "\n",
        "#plt.savefig(\"cum_lin_neg_E_W.jpg\",dpi=300,format=\"jpg\",bbox_inches=\"tight\")\n",
        "plt.show()"
      ],
      "execution_count": 93,
      "outputs": [
        {
          "output_type": "display_data",
          "data": {
            "image/png": "[encoded data removed]",
            "text/plain": [
              "<Figure size 1008x432 with 1 Axes>"
            ]
          },
          "metadata": {
            "tags": [],
            "needs_background": "light"
          }
        }
      ]
    },
    {
      "cell_type": "markdown",
      "metadata": {
        "id": "bRECd0RDjOBJ"
      },
      "source": [
        "#### Teste de Kolmogorov-Smirnov Biamostral\n",
        "\n",
        "- Esse teste fora executado para verificar se os lineamentos negativos das porções E e W pertencem a uma mesma distribuição\n",
        "\n",
        "- Pode ser realizados para variáveis discretas\n",
        "\n",
        "- **H0**: as duas amostras são oriundas da mesma distribuição\n",
        "\n",
        "- **Ha**: as duas amostras NÃO são oriundas da mesma distribuição\n",
        "\n",
        "- **Conclusão**: como **p-valor <<< 0.01**, há fortes evidências para **REJEITAR** H0. Portanto, os lineamentos negativos das porções E e W não pertencem a uma mesma distribuição e não podem ser tratados como um só grupo"
      ]
    },
    {
      "cell_type": "code",
      "metadata": {
        "id": "LAQJyyxh0Ixp",
        "outputId": "8d63ccf8-66c9-4d09-c5e1-b6bfb8a18e41",
        "colab": {
          "base_uri": "https://localhost:8080/",
          "height": 34
        }
      },
      "source": [
        "# Teste de Kolmogorov-Smirnov:\n",
        "stats.ks_2samp(data1=lin_neg_w.TREND,data2=lin_neg_e.TREND)"
      ],
      "execution_count": 94,
      "outputs": [
        {
          "output_type": "execute_result",
          "data": {
            "text/plain": [
              "Ks_2sampResult(statistic=0.17134416543574593, pvalue=1.0194634025850746e-09)"
            ]
          },
          "metadata": {
            "tags": []
          },
          "execution_count": 94
        }
      ]
    },
    {
      "cell_type": "markdown",
      "metadata": {
        "id": "h6e9mmCmOfBE"
      },
      "source": [
        "### Simulação dos Dados\n",
        "\n",
        "- Foi realizada uma simulação com amostras fictícias para verificar a performance do Teste KS Biamostral para os dados de lineamentos"
      ]
    },
    {
      "cell_type": "code",
      "metadata": {
        "id": "QabL9YA6QLbA"
      },
      "source": [
        "from numpy.random import normal\n",
        "import random"
      ],
      "execution_count": 95,
      "outputs": []
    },
    {
      "cell_type": "code",
      "metadata": {
        "id": "x-xXOmNBOhAH"
      },
      "source": [
        "# Função que gera dados normalmente distribuídos:\n",
        "\n",
        "def gerador_normal(mean,sd,n):\n",
        "  a = normal(loc=mean,scale=sd,size=100000)\n",
        "\n",
        "  lista =[]\n",
        "  for i in range(len(a)):\n",
        "    if 0 <= a[i] <= 179:\n",
        "      lista.append(a[i])\n",
        "\n",
        "  b = random.sample(lista,n)\n",
        "  c = round(pd.Series(b))\n",
        "  return np.array(c)"
      ],
      "execution_count": 96,
      "outputs": []
    },
    {
      "cell_type": "code",
      "metadata": {
        "id": "vI6_-84_R7XH"
      },
      "source": [
        "# Criação de duas amostras de distribuições distintas:\n",
        "dados_e = gerador_normal(80,15,925)\n",
        "dados_w = gerador_normal(100,30,707)"
      ],
      "execution_count": 122,
      "outputs": []
    },
    {
      "cell_type": "code",
      "metadata": {
        "id": "wJegLhhYZFcM",
        "outputId": "d79a6f84-36ac-4e7e-d46e-38e6dd291496",
        "colab": {
          "base_uri": "https://localhost:8080/",
          "height": 34
        }
      },
      "source": [
        "stats.ks_2samp(data1=dados_e,data2=dados_w)"
      ],
      "execution_count": 123,
      "outputs": [
        {
          "output_type": "execute_result",
          "data": {
            "text/plain": [
              "Ks_2sampResult(statistic=0.4406896288084407, pvalue=5.070326886570781e-68)"
            ]
          },
          "metadata": {
            "tags": []
          },
          "execution_count": 123
        }
      ]
    },
    {
      "cell_type": "markdown",
      "metadata": {
        "id": "CpxHu4lWX43p"
      },
      "source": [
        "## Comparação entre Lineamentos e Medidas Estruturais\n",
        "\n",
        "- Essas comparações foram feitas apenas para o domínio E, onde há uma densidade significativa de medidas estruturais"
      ]
    },
    {
      "cell_type": "markdown",
      "metadata": {
        "id": "DlHcSA-OYBbc"
      },
      "source": [
        "### Lineamentos Positivos x Direções de S0\n",
        "\n",
        "- Há uma significativa relação entre os lineamentos positivos e a direção das camadas de S0"
      ]
    },
    {
      "cell_type": "code",
      "metadata": {
        "id": "XNocmDKil0a-",
        "outputId": "a5a67351-81d5-4524-fdf8-3a71ecd457e4",
        "colab": {
          "base_uri": "https://localhost:8080/",
          "height": 391
        }
      },
      "source": [
        "# Histogramas (domínio E):\n",
        "plt.figure(figsize=(12,6))\n",
        "plt.hist(lin_pos_e.TREND_PADRONIZADO, bins=18, alpha=0.5, label=\"Lineamentos Positivos\",\n",
        "         density=True)\n",
        "plt.hist(S0_E.DIRECAO, bins=18, alpha=0.5, label=\"Direção S0\",density=True)\n",
        "\n",
        "plt.xlabel(\"Azimute\", size=12)\n",
        "plt.xticks(np.arange(0,190,step=10))\n",
        "plt.ylabel(\"Densidade\", size=12)\n",
        "plt.legend(loc='upper right')\n",
        "\n",
        "#plt.savefig(\"hist_lin_pos_S0_dir.jpg\",dpi=300,format=\"jpg\",bbox_inches=\"tight\")\n",
        "plt.show()"
      ],
      "execution_count": 101,
      "outputs": [
        {
          "output_type": "display_data",
          "data": {
            "image/png": "[encoded data removed]",
            "text/plain": [
              "<Figure size 864x432 with 1 Axes>"
            ]
          },
          "metadata": {
            "tags": [],
            "needs_background": "light"
          }
        }
      ]
    },
    {
      "cell_type": "code",
      "metadata": {
        "id": "rV6xPyHNkjab",
        "outputId": "ed0bf20c-046d-4a19-e0ca-3ffb53848cea",
        "colab": {
          "base_uri": "https://localhost:8080/",
          "height": 391
        }
      },
      "source": [
        "# Curva de Densidade Acumulada (Domínio E):\n",
        "plt.figure(figsize=(12,6))\n",
        "plt.hist(lin_pos_e.TREND_PADRONIZADO, bins=360, alpha=0.5, label=\"Lineamentos Positivos\",\n",
        "         cumulative=True,density=True,histtype=\"step\")\n",
        "plt.hist(S0_E.DIRECAO, bins=360, alpha=0.5, label=\"Direção S0\",\n",
        "         cumulative=True,density=True,histtype=\"step\")\n",
        "\n",
        "plt.xlabel(\"Azimute\", size=12)\n",
        "plt.xticks(np.arange(0,190,step=10))\n",
        "plt.ylabel(\"Densidade Acumulada\", size=12)\n",
        "plt.legend(loc='upper left')\n",
        "\n",
        "#plt.savefig(\"cum_lin_pos_S0_dir.jpg\",dpi=300,format=\"jpg\",bbox_inches=\"tight\")\n",
        "plt.show()"
      ],
      "execution_count": 102,
      "outputs": [
        {
          "output_type": "display_data",
          "data": {
            "image/png": "[encoded data removed]",
            "text/plain": [
              "<Figure size 864x432 with 1 Axes>"
            ]
          },
          "metadata": {
            "tags": [],
            "needs_background": "light"
          }
        }
      ]
    },
    {
      "cell_type": "markdown",
      "metadata": {
        "id": "ctNH_Xeue3jM"
      },
      "source": [
        "### Lineamentos Positivos x Direções de SN\n",
        "\n",
        "- Há uma ligeira relação entre os lineamentos positivos e as direções de foliação"
      ]
    },
    {
      "cell_type": "code",
      "metadata": {
        "id": "qTG07IN4mirs",
        "outputId": "8258cb06-e1b4-4683-c006-6c0ce47a7a7f",
        "colab": {
          "base_uri": "https://localhost:8080/",
          "height": 391
        }
      },
      "source": [
        "# Histogramas (Domínio E):\n",
        "plt.figure(figsize=(12,6))\n",
        "plt.hist(lin_pos_e.TREND_PADRONIZADO, bins=18, alpha=0.5, label=\"Lineamentos Positivos\",\n",
        "         density=True)\n",
        "plt.hist(SN_E.DIRECAO, bins=18, alpha=0.5, label=\"Direção Sn\",density=True)\n",
        "\n",
        "plt.xlabel(\"Azimute\", size=12)\n",
        "plt.xticks(np.arange(0,190,step=10))\n",
        "plt.ylabel(\"Densidade\", size=12)\n",
        "plt.legend(loc='upper right')\n",
        "\n",
        "#plt.savefig(\"hist_lin_pos_Sn_dir.jpg\",dpi=300,format=\"jpg\",bbox_inches=\"tight\")\n",
        "plt.show()"
      ],
      "execution_count": 103,
      "outputs": [
        {
          "output_type": "display_data",
          "data": {
            "image/png": "[encoded data removed]",
            "text/plain": [
              "<Figure size 864x432 with 1 Axes>"
            ]
          },
          "metadata": {
            "tags": [],
            "needs_background": "light"
          }
        }
      ]
    },
    {
      "cell_type": "code",
      "metadata": {
        "id": "894M4SeDnkaL",
        "outputId": "3881668e-7e29-4a3f-e5ed-aa80968f05a5",
        "colab": {
          "base_uri": "https://localhost:8080/",
          "height": 391
        }
      },
      "source": [
        "# Curva de Densidade Acumulada (Domínio E):\n",
        "plt.figure(figsize=(12,6))\n",
        "plt.hist(lin_pos_e.TREND_PADRONIZADO, bins=360, alpha=0.5, label=\"Lineamentos Positivos\",\n",
        "         cumulative=True,density=True,histtype=\"step\")\n",
        "plt.hist(SN_E.DIRECAO, bins=360, alpha=0.5, label=\"Direção Sn\",\n",
        "         cumulative=True,density=True,histtype=\"step\")\n",
        "\n",
        "plt.xlabel(\"Azimute\", size=12)\n",
        "plt.xticks(np.arange(0,190,step=10))\n",
        "plt.ylabel(\"Densidade Acumulada\", size=12)\n",
        "plt.legend(loc='upper left')\n",
        "\n",
        "#plt.savefig(\"cum_lin_pos_Sn_dir.jpg\",dpi=300,format=\"jpg\",bbox_inches=\"tight\")\n",
        "plt.show()"
      ],
      "execution_count": 104,
      "outputs": [
        {
          "output_type": "display_data",
          "data": {
            "image/png": "[encoded data removed]",
            "text/plain": [
              "<Figure size 864x432 with 1 Axes>"
            ]
          },
          "metadata": {
            "tags": [],
            "needs_background": "light"
          }
        }
      ]
    },
    {
      "cell_type": "markdown",
      "metadata": {
        "id": "hHbJcuRggJpk"
      },
      "source": [
        "### Lineamentos Negativos x Sentido de S0\n",
        "\n",
        "- Há uma ligeira relação entre os lineamentos negativos e o sentido de mergulho do acamamento. Entretanto, há alguns lineamentos negativos (NNW e NNE) que não apresentam relação com o sentido de mergulho do acamamento\n",
        "\n",
        "- Esses lineamentos negativos NNW e NNE podem corresponder às direções do acamamento "
      ]
    },
    {
      "cell_type": "code",
      "metadata": {
        "id": "rcajSDFRg5eT"
      },
      "source": [
        "# Aplicação da função que padroniza o sentido de mergulho das estruturas planares:\n",
        "S0[\"DIP_DIR_PADRAO\"] = S0[\"DIP_DIR\"].map(padronizar)\n",
        "SN_ESP[\"DIP_DIR_PADRAO\"] = SN_ESP[\"DIP_DIR\"].map(padronizar)\n",
        "SN_CBH[\"DIP_DIR_PADRAO\"] = SN_CBH[\"DIP_DIR\"].map(padronizar)\n",
        "SN[\"DIP_DIR_PADRAO\"] = SN[\"DIP_DIR\"].map(padronizar)\n",
        "S0_E[\"DIP_DIR_PADRAO\"] = S0_E[\"DIP_DIR\"].map(padronizar)\n",
        "SN_E[\"DIP_DIR_PADRAO\"] = SN_E[\"DIP_DIR\"].map(padronizar)"
      ],
      "execution_count": 105,
      "outputs": []
    },
    {
      "cell_type": "code",
      "metadata": {
        "id": "1yvUmTBNvXcL",
        "outputId": "5379df63-1512-4635-ec30-7625d0cd0fe2",
        "colab": {
          "base_uri": "https://localhost:8080/",
          "height": 391
        }
      },
      "source": [
        "# Histogramas (Domínio E):\n",
        "plt.figure(figsize=(12,6))\n",
        "plt.hist(lin_neg_e.TREND_PADRONIZADO, bins=18, alpha=0.5, label=\"Lineamentos Negativos\",\n",
        "         density=True)\n",
        "plt.hist(S0_E.DIP_DIR_PADRAO, bins=18, alpha=0.5, label=\"Sentido S0\",density=True)\n",
        "\n",
        "plt.xlabel(\"Azimute\", size=12)\n",
        "plt.xticks(np.arange(0,190,step=10))\n",
        "plt.ylabel(\"Densidade\", size=12)\n",
        "plt.legend(loc='upper right')\n",
        "\n",
        "#plt.savefig(\"hist_lin_neg_S0_dip.jpg\",dpi=300,format=\"jpg\",bbox_inches=\"tight\")\n",
        "plt.show()"
      ],
      "execution_count": 106,
      "outputs": [
        {
          "output_type": "display_data",
          "data": {
            "image/png": "[encoded data removed]",
            "text/plain": [
              "<Figure size 864x432 with 1 Axes>"
            ]
          },
          "metadata": {
            "tags": [],
            "needs_background": "light"
          }
        }
      ]
    },
    {
      "cell_type": "markdown",
      "metadata": {
        "id": "au2eq6-13cw7"
      },
      "source": [
        "### Lineamentos Negativos x Sentido de SN\n",
        "\n",
        "- Há uma ligeira relação entre os lineamentos negativos e o sentido de mergulho da foliação. Entretanto, há alguns lineamentos negativos (NNW e NNE) que não apresentam relação com o sentido de mergulho da foliação.\n",
        "\n",
        "- Esses lineamentos negativos NNW e NNE podem corresponder às direções da foliação "
      ]
    },
    {
      "cell_type": "code",
      "metadata": {
        "id": "wNpJYV2I3jwE",
        "outputId": "33eac415-0a77-4dda-b5a0-0b2666eef844",
        "colab": {
          "base_uri": "https://localhost:8080/",
          "height": 391
        }
      },
      "source": [
        "# Histogramas (Domínio E):\n",
        "plt.figure(figsize=(12,6))\n",
        "plt.hist(lin_neg_e.TREND_PADRONIZADO, bins=18, alpha=0.5, label=\"Lineamentos Negativos\",\n",
        "         density=True)\n",
        "plt.hist(SN_E.DIP_DIR_PADRAO, bins=18, alpha=0.5, label=\"Sentido Sn\",density=True)\n",
        "\n",
        "plt.xlabel(\"Azimute\", size=12)\n",
        "plt.xticks(np.arange(0,190,step=10))\n",
        "plt.ylabel(\"Densidade\", size=12)\n",
        "plt.legend(loc='upper right')\n",
        "\n",
        "#plt.savefig(\"hist_lin_neg_Sn_dip.png\",dpi=300,format=\"png\",bbox_inches=\"tight\")\n",
        "plt.show()"
      ],
      "execution_count": 107,
      "outputs": [
        {
          "output_type": "display_data",
          "data": {
            "image/png": "[encoded data removed]",
            "text/plain": [
              "<Figure size 864x432 with 1 Axes>"
            ]
          },
          "metadata": {
            "tags": [],
            "needs_background": "light"
          }
        }
      ]
    },
    {
      "cell_type": "markdown",
      "metadata": {
        "id": "aSbg5-K5dCTg"
      },
      "source": [
        "## Comparação entre Medidas de Acamamento e Foliação"
      ]
    },
    {
      "cell_type": "code",
      "metadata": {
        "id": "fgNXzMsk45Ww",
        "outputId": "28e92a44-405b-491c-f824-36a49cdbce9f",
        "colab": {
          "base_uri": "https://localhost:8080/",
          "height": 391
        }
      },
      "source": [
        "# Histograma:\n",
        "plt.figure(figsize=(12,6))\n",
        "plt.hist(SN_ESP.DIP_DIR, bins=36, alpha=0.5, label=\"Sn (Sg. Espinhaço)\")\n",
        "plt.hist(S0.DIP_DIR, bins=36, alpha=0.5, label=\"S0 (Sg. Espinhaço)\")\n",
        "\n",
        "plt.xlabel(\"Azimute\", size=12)\n",
        "plt.xticks(np.arange(0,370,step=20))\n",
        "plt.ylabel(\"Densidade\", size=12)\n",
        "plt.legend(loc='upper right')\n",
        "\n",
        "#plt.savefig(\"hist_S0_Sn_ESP.png\",dpi=300,format=\"png\",bbox_inches=\"tight\")\n",
        "plt.show()"
      ],
      "execution_count": 108,
      "outputs": [
        {
          "output_type": "display_data",
          "data": {
            "image/png": "[encoded data removed]",
            "text/plain": [
              "<Figure size 864x432 with 1 Axes>"
            ]
          },
          "metadata": {
            "tags": [],
            "needs_background": "light"
          }
        }
      ]
    },
    {
      "cell_type": "code",
      "metadata": {
        "id": "Us_HLFg7hd9z",
        "outputId": "b16319ec-7766-4fa7-85d5-2054eaa8551e",
        "colab": {
          "base_uri": "https://localhost:8080/",
          "height": 391
        }
      },
      "source": [
        "# Curva de frequência acumulada:\n",
        "plt.figure(figsize=(12,6))\n",
        "plt.hist(SN_ESP.DIP_DIR, bins=360, alpha=0.5, label=\"Sentido de Sn (Sg. Espinhaço)\",stacked=True,\n",
        "         cumulative=True,density=True,histtype=\"step\")\n",
        "plt.hist(S0.DIP_DIR, bins=360, alpha=0.5, label=\"Sentido de S0 (Sg. Espinhaço)\",stacked=True,\n",
        "         cumulative=True,density=True,histtype=\"step\")\n",
        "\n",
        "plt.xlabel(\"Azimute\", size=12)\n",
        "plt.xticks(np.arange(0,370,step=20))\n",
        "plt.ylabel(\"Densidade Acumulada\", size=12)\n",
        "plt.legend(loc='lower right')\n",
        "\n",
        "#plt.savefig(\"cum_S0_Sn_ESP.png\",dpi=300,format=\"png\",bbox_inches=\"tight\")\n",
        "plt.show()"
      ],
      "execution_count": 109,
      "outputs": [
        {
          "output_type": "display_data",
          "data": {
            "image/png": "[encoded data removed]",
            "text/plain": [
              "<Figure size 864x432 with 1 Axes>"
            ]
          },
          "metadata": {
            "tags": [],
            "needs_background": "light"
          }
        }
      ]
    },
    {
      "cell_type": "markdown",
      "metadata": {
        "id": "HDify1PsqW_d"
      },
      "source": [
        "## Exportação de Medidas para Stereonet"
      ]
    },
    {
      "cell_type": "code",
      "metadata": {
        "id": "sc9VGwlej_8S"
      },
      "source": [
        "# Exportação de atitudes de foliação para formato Stereonet:\n",
        "\n",
        "#SN.to_csv(\"SN.csv\",sep=\"\\t\",header=True,index=False)"
      ],
      "execution_count": 110,
      "outputs": []
    },
    {
      "cell_type": "code",
      "metadata": {
        "id": "fZl34wWXlO09"
      },
      "source": [
        "# Exportação de atitudes de foliação ESP para formato Stereonet:\n",
        "\n",
        "#SN_ESP.to_csv(\"SN_ESP.csv\",sep=\"\\t\",header=True,index=False)"
      ],
      "execution_count": 111,
      "outputs": []
    },
    {
      "cell_type": "code",
      "metadata": {
        "id": "HUlkNX1voYDr"
      },
      "source": [
        "# Exportação de atitudes de foliação CBH para formato Stereonet:\n",
        "\n",
        "#SN_CBH.to_csv(\"SN_CBH.csv\",sep=\"\\t\",header=True,index=False)"
      ],
      "execution_count": 112,
      "outputs": []
    },
    {
      "cell_type": "code",
      "metadata": {
        "id": "7_LWAjTSozeb"
      },
      "source": [
        "# Exportação de atitudes de acamamento para formato Stereonet:\n",
        "\n",
        "#S0.to_csv(\"S0.csv\",sep=\"\\t\",header=True,index=False)"
      ],
      "execution_count": 113,
      "outputs": []
    },
    {
      "cell_type": "code",
      "metadata": {
        "id": "UsjlS9b6pc_K"
      },
      "source": [
        "# Exportação de atitudes de Lineação para formato Stereonet:\n",
        "\n",
        "#LN.to_csv(\"LN.csv\",sep=\"\\t\",header=True,index=False)"
      ],
      "execution_count": 114,
      "outputs": []
    },
    {
      "cell_type": "code",
      "metadata": {
        "id": "xdiF0y9axCFz"
      },
      "source": [
        "# Exportação de atitudes de Lineação ESP para formato Stereonet:\n",
        "\n",
        "#LN_ESP.to_csv(\"LN_ESP.csv\",sep=\"\\t\",header=True,index=False)"
      ],
      "execution_count": 115,
      "outputs": []
    },
    {
      "cell_type": "code",
      "metadata": {
        "id": "T-JF8px4xhLq"
      },
      "source": [
        "# Exportação de atitudes de Lineação CBH para formato Stereonet:\n",
        "\n",
        "#LN_CBH.to_csv(\"LN_CBH.csv\",sep=\"\\t\",header=True,index=False)"
      ],
      "execution_count": 116,
      "outputs": []
    },
    {
      "cell_type": "code",
      "metadata": {
        "id": "ipoiCCA-pxU1"
      },
      "source": [
        "# Exportação de atitudes de Fratura para formato Stereonet:\n",
        "\n",
        "#F.to_csv(\"F.csv\",sep=\"\\t\",header=True,index=False)"
      ],
      "execution_count": 117,
      "outputs": []
    },
    {
      "cell_type": "code",
      "metadata": {
        "id": "mGXalj2uqucX"
      },
      "source": [
        "# Exportação de atitudes de Eixo para formato Stereonet:\n",
        "\n",
        "#E.to_csv(\"E.csv\",sep=\"\\t\",header=True,index=False)"
      ],
      "execution_count": 118,
      "outputs": []
    },
    {
      "cell_type": "code",
      "metadata": {
        "id": "UVfCS844s1J0"
      },
      "source": [
        "# Exportação de atitudes de Veio para formato Stereonet:\n",
        "\n",
        "#V.to_csv(\"V.csv\",sep=\"\\t\",header=True,index=False)"
      ],
      "execution_count": 119,
      "outputs": []
    }
  ]
}